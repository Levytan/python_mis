{
 "cells": [
  {
   "cell_type": "markdown",
   "metadata": {
    "colab_type": "text",
    "id": "2oIPof-M27hi",
    "slideshow": {
     "slide_type": "slide"
    }
   },
   "source": [
    "# Kiểu dữ liệu chuỗi ký tự"
   ]
  },
  {
   "cell_type": "markdown",
   "metadata": {
    "colab_type": "text",
    "id": "opsnFBsO3OOr",
    "slideshow": {
     "slide_type": "slide"
    }
   },
   "source": [
    "## Giới thiệu"
   ]
  },
  {
   "cell_type": "markdown",
   "metadata": {
    "colab_type": "text",
    "id": "WYNxPIN63Rc5",
    "slideshow": {
     "slide_type": "subslide"
    }
   },
   "source": [
    "Chuỗi ký tự, hay `str`, là một trong những kiểu dữ liệu cơ bản của python.\n",
    "\n",
    "`str` là một chuỗi các ký tự được nằm trong (được giới hạn bởi) dấu nháy đơn `''` hoặc nháy kép `\"\"`\n",
    "\n",
    "Ví dụ :"
   ]
  },
  {
   "cell_type": "code",
   "execution_count": 1,
   "metadata": {
    "colab": {
     "base_uri": "https://localhost:8080/",
     "height": 34
    },
    "colab_type": "code",
    "id": "XkAi5lzC3H4u",
    "outputId": "1c46ad1b-bb14-4d1d-8a0f-ab84d0b82238",
    "slideshow": {
     "slide_type": "subslide"
    }
   },
   "outputs": [
    {
     "name": "stdout",
     "output_type": "stream",
     "text": [
      "Đây là một chuỗi ký tự\n"
     ]
    }
   ],
   "source": [
    "print(\"Đây là một chuỗi ký tự\")"
   ]
  },
  {
   "cell_type": "code",
   "execution_count": 2,
   "metadata": {
    "colab": {
     "base_uri": "https://localhost:8080/",
     "height": 34
    },
    "colab_type": "code",
    "id": "C1qnGMlZ4Mcv",
    "outputId": "1aa99768-a5e1-4c79-9b9d-dd49986ac275",
    "slideshow": {
     "slide_type": "subslide"
    }
   },
   "outputs": [
    {
     "name": "stdout",
     "output_type": "stream",
     "text": [
      "Đây cũng là một chuỗi ký tự\n"
     ]
    }
   ],
   "source": [
    "print('Đây cũng là một chuỗi ký tự')"
   ]
  },
  {
   "cell_type": "markdown",
   "metadata": {
    "colab_type": "text",
    "id": "CA0INKvj4Ubp",
    "slideshow": {
     "slide_type": "slide"
    }
   },
   "source": [
    "Về cơ bản, độ dài `str` của python chỉ bị giới hạn bởi bộ nhớ của máy tính. Nghĩa là, nếu bộ nhớ cho phép, bạn có thể tạo ra một `str` chứa 1,000,000,000 ký tự."
   ]
  },
  {
   "cell_type": "markdown",
   "metadata": {
    "colab_type": "text",
    "id": "_uEcXx8H5Qmv",
    "slideshow": {
     "slide_type": "subslide"
    }
   },
   "source": [
    "Và bạn cũng có thể tạo ra một `str` trống, không chứa ký tự nào"
   ]
  },
  {
   "cell_type": "code",
   "execution_count": 2,
   "metadata": {
    "colab": {
     "base_uri": "https://localhost:8080/",
     "height": 34
    },
    "colab_type": "code",
    "id": "qtpBzhNa4TD0",
    "outputId": "f35ce874-edde-4816-9f95-92e19a53b210",
    "slideshow": {
     "slide_type": "subslide"
    }
   },
   "outputs": [
    {
     "data": {
      "text/plain": [
       "True"
      ]
     },
     "execution_count": 2,
     "metadata": {},
     "output_type": "execute_result"
    }
   ],
   "source": [
    "# dùng hàm isinstance() để kiểm tra kiểu dữ liệu\n",
    "# cú pháp\n",
    "# isinstance(<biến_cần_kiểm_tra>, <kiểu>)\n",
    "isinstance('', str)"
   ]
  },
  {
   "cell_type": "markdown",
   "metadata": {
    "colab_type": "text",
    "id": "lPRYiGSe5fif",
    "slideshow": {
     "slide_type": "slide"
    }
   },
   "source": [
    "Để biết được độ dài (hay số ký tự) của một `str`, dùng hàm `len()` như sau:"
   ]
  },
  {
   "cell_type": "code",
   "execution_count": 2,
   "metadata": {
    "colab": {
     "base_uri": "https://localhost:8080/",
     "height": 34
    },
    "colab_type": "code",
    "id": "Dx8ouZg65apX",
    "outputId": "6276fd94-7fe3-43c4-d9d4-260a7393e39c",
    "slideshow": {
     "slide_type": "subslide"
    }
   },
   "outputs": [
    {
     "data": {
      "text/plain": [
       "25"
      ]
     },
     "execution_count": 2,
     "metadata": {},
     "output_type": "execute_result"
    }
   ],
   "source": [
    "len('Đây là một chuỗi rất dài!')"
   ]
  },
  {
   "cell_type": "markdown",
   "metadata": {
    "colab_type": "text",
    "id": "xvfKbZzr6LTh",
    "slideshow": {
     "slide_type": "slide"
    }
   },
   "source": [
    "## Cách giới hạn một `str`"
   ]
  },
  {
   "cell_type": "markdown",
   "metadata": {
    "colab_type": "text",
    "id": "i1bRtww06jMW",
    "slideshow": {
     "slide_type": "subslide"
    }
   },
   "source": [
    "Như ở phần giới thiệu, một `str` của python có thể được giới hạn bằng hai cách, đó là dùng `''` hoặc `\"\"`. Tại sao lại thế?"
   ]
  },
  {
   "cell_type": "markdown",
   "metadata": {
    "colab_type": "text",
    "id": "kiaum_ep7A7J",
    "slideshow": {
     "slide_type": "subslide"
    }
   },
   "source": [
    "Chẳng hạn, bạn muốn tạo chuỗi như thế này :"
   ]
  },
  {
   "cell_type": "code",
   "execution_count": 5,
   "metadata": {
    "colab": {
     "base_uri": "https://localhost:8080/",
     "height": 129
    },
    "colab_type": "code",
    "id": "zzUDHvAc5vTD",
    "outputId": "789e729d-b307-4ba5-cad6-41b31ece09eb",
    "slideshow": {
     "slide_type": "subslide"
    }
   },
   "outputs": [
    {
     "ename": "SyntaxError",
     "evalue": "ignored",
     "output_type": "error",
     "traceback": [
      "\u001b[0;36m  File \u001b[0;32m\"<ipython-input-5-2bb91a7c806b>\"\u001b[0;36m, line \u001b[0;32m1\u001b[0m\n\u001b[0;31m    'I've a dream'\u001b[0m\n\u001b[0m        ^\u001b[0m\n\u001b[0;31mSyntaxError\u001b[0m\u001b[0;31m:\u001b[0m invalid syntax\n"
     ]
    }
   ],
   "source": [
    "'I've a dream'"
   ]
  },
  {
   "cell_type": "markdown",
   "metadata": {
    "colab_type": "text",
    "id": "hKKxan1z767j",
    "slideshow": {
     "slide_type": "slide"
    }
   },
   "source": [
    "Như các bạn có thể thấy, khi gặp dấu `'` thứ hai, python đã tự động xác định `I` là `str`.\n",
    "\n",
    "Phần còn lại, do không nằm trong cú pháp nào của python nên bị báo lỗi.\n",
    "\n",
    "Để giải quyết vấn đề này, người ta có 3 cách :\n",
    "1. Dùng `\"\"` để giới hạn chuỗi khi muốn dùng `''` trong chuỗi và ngược lại.\n",
    "2. Dùng ký tự đặc biệt `\\`\n",
    "3. Dùng đến nháy ba `'''...'''` hoặc `\"\"\"...\"\"\"`"
   ]
  },
  {
   "cell_type": "markdown",
   "metadata": {
    "colab_type": "text",
    "id": "TUqAWb9f9NeV",
    "slideshow": {
     "slide_type": "slide"
    }
   },
   "source": [
    "Cách thứ nhất, bạn có thể xem những ví dụ sau đây :"
   ]
  },
  {
   "cell_type": "code",
   "execution_count": 3,
   "metadata": {
    "colab": {
     "base_uri": "https://localhost:8080/",
     "height": 34
    },
    "colab_type": "code",
    "id": "KmPwWoFa7yLl",
    "outputId": "093f7282-eef4-416c-d552-42ba71c26113",
    "slideshow": {
     "slide_type": "subslide"
    }
   },
   "outputs": [
    {
     "name": "stdout",
     "output_type": "stream",
     "text": [
      "It'''qwerty'''s\n"
     ]
    }
   ],
   "source": [
    "a = \"It'''qwerty'''s\"\n",
    "print(a)"
   ]
  },
  {
   "cell_type": "code",
   "execution_count": 4,
   "metadata": {
    "colab": {
     "base_uri": "https://localhost:8080/",
     "height": 34
    },
    "colab_type": "code",
    "id": "cg_JW2mJ83U_",
    "outputId": "85f8867e-f4bf-4c7f-efac-e8b9da0710af",
    "slideshow": {
     "slide_type": "subslide"
    }
   },
   "outputs": [
    {
     "name": "stdout",
     "output_type": "stream",
     "text": [
      "She said: \"I want to go home\"\n"
     ]
    }
   ],
   "source": [
    "a = 'She said: \"I want to go home\"'\n",
    "print(a)"
   ]
  },
  {
   "cell_type": "markdown",
   "metadata": {
    "colab_type": "text",
    "id": "AIXz-7QG9lnK",
    "slideshow": {
     "slide_type": "slide"
    }
   },
   "source": [
    "Tuy nhiên, cách thứ nhất chỉ hiệu quả trong trường hợp chỉ có 1 dấu nằm lồng trong nhau, cùng xem ví dụ sau :"
   ]
  },
  {
   "cell_type": "code",
   "execution_count": 3,
   "metadata": {
    "colab": {
     "base_uri": "https://localhost:8080/",
     "height": 129
    },
    "colab_type": "code",
    "id": "J_N7ZsjV9GIf",
    "outputId": "f4e18cb2-0b10-4a0b-e1d8-77f4cba88b5f",
    "slideshow": {
     "slide_type": "subslide"
    }
   },
   "outputs": [
    {
     "ename": "SyntaxError",
     "evalue": "invalid syntax (<ipython-input-3-68b12521463c>, line 1)",
     "output_type": "error",
     "traceback": [
      "\u001b[1;36m  File \u001b[1;32m\"<ipython-input-3-68b12521463c>\"\u001b[1;36m, line \u001b[1;32m1\u001b[0m\n\u001b[1;33m    b = 'She said : \"I've a dream\"'\u001b[0m\n\u001b[1;37m                        ^\u001b[0m\n\u001b[1;31mSyntaxError\u001b[0m\u001b[1;31m:\u001b[0m invalid syntax\n"
     ]
    }
   ],
   "source": [
    "b = She said: \"I've a dream\"\n",
    "print(b)"
   ]
  },
  {
   "cell_type": "markdown",
   "metadata": {
    "colab_type": "text",
    "id": "mp7whb3u-Jbx",
    "slideshow": {
     "slide_type": "subslide"
    }
   },
   "source": [
    "Như các bạn có thể thấy, trong trường hợp này, việc tồn tại của `I've` khiến cho không thể giới hạn chuỗi một cách hiệu quả. Vì vậy, người ta phải sử dụng đến ký tự `\\`"
   ]
  },
  {
   "cell_type": "markdown",
   "metadata": {
    "colab_type": "text",
    "id": "D6tFDWxK-XDs",
    "slideshow": {
     "slide_type": "slide"
    }
   },
   "source": [
    "## Ký tự `\\`"
   ]
  },
  {
   "cell_type": "markdown",
   "metadata": {
    "colab_type": "text",
    "id": "At7xFtPU-eDK",
    "slideshow": {
     "slide_type": "slide"
    }
   },
   "source": [
    "Tương tự nhiều ngôn ngữ lập trình, python dùng ký tự `\\` (sổ trái) với ý nghĩa là một ký tự đặc biệt. \n",
    "Khi python gặp ký tự `\\` này, nó sẽ hiểu rằng một (hoặc vài) ký tự đi sau `\\` có ý nghĩa khác với bình thường.\n",
    "Ký tự `\\` còn được gọi là escaped character. Nghĩa là một (hoặc vài) ký tự theo sau nó được thoát (escaped) khỏi ý nghĩa ban đầu."
   ]
  },
  {
   "cell_type": "markdown",
   "metadata": {
    "colab_type": "text",
    "id": "zRDuyw69_gvA",
    "slideshow": {
     "slide_type": "subslide"
    }
   },
   "source": [
    "Một số chuỗi thường gặp trong python\n",
    "\n",
    "|Chuỗi|Ý nghĩa|\n",
    "|:---:|---|\n",
    "|`\\t`|Nhảy 1 tab|\n",
    "|`\\n`|Xuống dòng|\n",
    "|`\\'`|Ký tự `'`|\n",
    "|`\\\"`|Ký tự `\"`|\n",
    "|`\\\\`|Ký tự `\\`|"
   ]
  },
  {
   "cell_type": "markdown",
   "metadata": {
    "colab_type": "text",
    "id": "Fvi2EcPsBGJe",
    "slideshow": {
     "slide_type": "slide"
    }
   },
   "source": [
    "Tuy nhiên, các chuỗi này chỉ có thể thể hiện được khi dùng lệnh `print()`. Ví dụ:"
   ]
  },
  {
   "cell_type": "code",
   "execution_count": 5,
   "metadata": {
    "colab": {
     "base_uri": "https://localhost:8080/",
     "height": 34
    },
    "colab_type": "code",
    "id": "5vsZJsnN9zj0",
    "outputId": "8d8b5300-0547-460f-9a62-48edb77f1041",
    "slideshow": {
     "slide_type": "subslide"
    }
   },
   "outputs": [
    {
     "data": {
      "text/plain": [
       "'She said:\\n \"I\\'ve a \\t dream\"'"
      ]
     },
     "execution_count": 5,
     "metadata": {},
     "output_type": "execute_result"
    }
   ],
   "source": [
    "a = 'She said:\\n \"I\\'ve a \\t dream\"'\n",
    "# giá trị khi lưu trữ\n",
    "a"
   ]
  },
  {
   "cell_type": "code",
   "execution_count": 6,
   "metadata": {},
   "outputs": [
    {
     "name": "stdout",
     "output_type": "stream",
     "text": [
      "She said:\n",
      " \"I've a \t dream\"\n"
     ]
    }
   ],
   "source": [
    "# giá trị được in ra\n",
    "print(a)"
   ]
  },
  {
   "cell_type": "code",
   "execution_count": 4,
   "metadata": {
    "colab": {
     "base_uri": "https://localhost:8080/",
     "height": 68
    },
    "colab_type": "code",
    "id": "xmS6B0atBPqd",
    "outputId": "1662890d-29e7-47cd-a602-ba1af73583d1",
    "slideshow": {
     "slide_type": "subslide"
    }
   },
   "outputs": [
    {
     "name": "stdout",
     "output_type": "stream",
     "text": [
      "- Ai là người lấy cắp nỏ thần của An Dương Vương?\n",
      "- Dạ, không liên quan đến em, em không biết bạn Vương!\n",
      "- Để em đi báo công an ạ!\n"
     ]
    }
   ],
   "source": [
    "print('- Ai là người lấy cắp nỏ thần của An Dương Vương?\\n- Dạ, không liên quan đến em, em không biết bạn Vương!\\n- Để em đi báo công an ạ!')"
   ]
  },
  {
   "cell_type": "code",
   "execution_count": 28,
   "metadata": {
    "colab": {
     "base_uri": "https://localhost:8080/",
     "height": 34
    },
    "colab_type": "code",
    "id": "MQBmDwRLFXbL",
    "outputId": "8c66fe48-313a-412b-ff63-d717922b04ce",
    "slideshow": {
     "slide_type": "subslide"
    }
   },
   "outputs": [
    {
     "name": "stdout",
     "output_type": "stream",
     "text": [
      "a\t+\tb\t=\tc\n"
     ]
    }
   ],
   "source": [
    "print('a\\t+\\tb\\t=\\tc')"
   ]
  },
  {
   "cell_type": "markdown",
   "metadata": {
    "colab_type": "text",
    "id": "laTXA8fsFWjt",
    "slideshow": {
     "slide_type": "slide"
    }
   },
   "source": [
    "## Dấu nháy ba `'''...'''` hoặc `\"\"\"...\"\"\"`"
   ]
  },
  {
   "cell_type": "markdown",
   "metadata": {
    "colab_type": "text",
    "id": "sUNNEQt0F30A",
    "slideshow": {
     "slide_type": "subslide"
    }
   },
   "source": [
    "Ngoài ra, python còn có một cách để giới hạn chuỗi, đó là dùng dấu nháy ba. Công dụng chính của dấu nháy ba là cho phép bạn viết một `str` trên nhiều dòng khác nhau."
   ]
  },
  {
   "cell_type": "code",
   "execution_count": 29,
   "metadata": {
    "colab": {
     "base_uri": "https://localhost:8080/",
     "height": 129
    },
    "colab_type": "code",
    "id": "jlIL12agEPEN",
    "outputId": "2492c760-a2fa-4ee1-cb82-248b76d1844f",
    "slideshow": {
     "slide_type": "subslide"
    }
   },
   "outputs": [
    {
     "ename": "SyntaxError",
     "evalue": "ignored",
     "output_type": "error",
     "traceback": [
      "\u001b[0;36m  File \u001b[0;32m\"<ipython-input-29-8de7381e0d36>\"\u001b[0;36m, line \u001b[0;32m1\u001b[0m\n\u001b[0;31m    print('a\u001b[0m\n\u001b[0m            ^\u001b[0m\n\u001b[0;31mSyntaxError\u001b[0m\u001b[0;31m:\u001b[0m EOL while scanning string literal\n"
     ]
    }
   ],
   "source": [
    "print('a\n",
    "b')"
   ]
  },
  {
   "cell_type": "code",
   "execution_count": 7,
   "metadata": {
    "colab": {
     "base_uri": "https://localhost:8080/",
     "height": 85
    },
    "colab_type": "code",
    "id": "ck5eLYrHGfzK",
    "outputId": "152a368d-c38b-4ba0-b026-b5af9c789948",
    "slideshow": {
     "slide_type": "subslide"
    }
   },
   "outputs": [
    {
     "data": {
      "text/plain": [
       "'Trăm năm trong cõi người ta\\nAi ai cũng phải thở ra hít vào\\nGần gần như cái nước Lào\\nNgười người đều phải hít vào thở ra'"
      ]
     },
     "execution_count": 7,
     "metadata": {},
     "output_type": "execute_result"
    }
   ],
   "source": [
    "a = '''Trăm năm trong cõi người ta\n",
    "Ai ai cũng phải thở ra hít vào\n",
    "Gần gần như cái nước Lào\n",
    "Người người đều phải hít vào thở ra'''\n",
    "a"
   ]
  },
  {
   "cell_type": "markdown",
   "metadata": {
    "colab_type": "text",
    "id": "hUq0dQRNHe2Q",
    "slideshow": {
     "slide_type": "slide"
    }
   },
   "source": [
    "Ngoài ra, nó có công dụng phụ là bạn có thể dùng *nháy đơn* và *nháy kép* trong `str` mà không cần đi kèm với `\\`"
   ]
  },
  {
   "cell_type": "markdown",
   "metadata": {
    "colab_type": "text",
    "id": "prdoCA8-IyWI",
    "slideshow": {
     "slide_type": "slide"
    }
   },
   "source": [
    "# Một số thao tác trên chuỗi ký tự"
   ]
  },
  {
   "cell_type": "markdown",
   "metadata": {
    "colab_type": "text",
    "id": "iSLJjGwFI7Zp",
    "slideshow": {
     "slide_type": "slide"
    }
   },
   "source": [
    "## Lấy chuỗi con\n",
    "Để lấy một chuỗi con từ chuỗi cho trước, có thể dùng cách sau:\n",
    "```\n",
    "<tên_chuỗi>[bắt_đầu:kết_thúc]\n",
    "```\n",
    "Với ý nghĩa là, lấy chuỗi con từ `tên_chuỗi`, lấy từ vị trí `bắt_đầu` cho đến **ngay trước** vị trí `kết_thúc`."
   ]
  },
  {
   "cell_type": "markdown",
   "metadata": {
    "colab_type": "text",
    "id": "H16Z_xLGLGQN",
    "slideshow": {
     "slide_type": "subslide"
    }
   },
   "source": [
    "Python hỗ trợ hai cách đánh số `str`, đó là số thứ tự dương và số thứ tự âm như hình sau :\n",
    "\n",
    "![Cách đánh số `str`](https://developers.google.com/edu/python/images/hello.png)"
   ]
  },
  {
   "cell_type": "code",
   "execution_count": 7,
   "metadata": {},
   "outputs": [
    {
     "data": {
      "text/plain": [
       "'ell'"
      ]
     },
     "execution_count": 7,
     "metadata": {},
     "output_type": "execute_result"
    }
   ],
   "source": [
    "a = 'hello'\n",
    "# lấy từ ký tự vị trí 1 đến trước vị trí 4\n",
    "a[1:4]"
   ]
  },
  {
   "cell_type": "markdown",
   "metadata": {
    "colab_type": "text",
    "id": "Y15VVPvZMJs5",
    "slideshow": {
     "slide_type": "subslide"
    }
   },
   "source": [
    "Một số điểm cần lưu ý :\n",
    "- Nếu bỏ trống `bắt_đầu`, python sẽ lấy từ đầu chuỗi.\n",
    "- Nếu bỏ trống `kết_thúc`, python sẽ lấy đến hết chuỗi.\n",
    "- Nhắc lại, trong trường hợp có `kết_thúc`, python sẽ **không** lấy phần tử ở vị trí `kết_thúc`.\n",
    "- Có thể sử dụng cách đánh số thứ tự dương hoặc số thứ tự âm hoặc cả hai đều được."
   ]
  },
  {
   "cell_type": "markdown",
   "metadata": {
    "colab_type": "text",
    "id": "0uU1GGGXN0ro",
    "slideshow": {
     "slide_type": "slide"
    }
   },
   "source": [
    "Cùng xem các ví dụ sau :"
   ]
  },
  {
   "cell_type": "code",
   "execution_count": 5,
   "metadata": {
    "colab": {},
    "colab_type": "code",
    "id": "bQE4eppiHIuZ",
    "slideshow": {
     "slide_type": "subslide"
    }
   },
   "outputs": [
    {
     "data": {
      "text/plain": [
       "'H'"
      ]
     },
     "execution_count": 5,
     "metadata": {},
     "output_type": "execute_result"
    }
   ],
   "source": [
    "a = 'Hello'\n",
    "a[0:1]"
   ]
  },
  {
   "cell_type": "code",
   "execution_count": 40,
   "metadata": {
    "colab": {
     "base_uri": "https://localhost:8080/",
     "height": 34
    },
    "colab_type": "code",
    "id": "PeKF9SOmKhKX",
    "outputId": "ffb6f65b-3700-4530-8860-edcbc7120771",
    "slideshow": {
     "slide_type": "subslide"
    }
   },
   "outputs": [
    {
     "data": {
      "text/plain": [
       "'ell'"
      ]
     },
     "execution_count": 40,
     "metadata": {
      "tags": []
     },
     "output_type": "execute_result"
    }
   ],
   "source": [
    "# chỉ rõ bắt đầu và kết thúc\n",
    "a[1:4]"
   ]
  },
  {
   "cell_type": "code",
   "execution_count": 41,
   "metadata": {
    "colab": {
     "base_uri": "https://localhost:8080/",
     "height": 34
    },
    "colab_type": "code",
    "id": "mhisljtIKic2",
    "outputId": "b7963862-06a1-47a0-e453-8e3e8d1c925a",
    "slideshow": {
     "slide_type": "subslide"
    }
   },
   "outputs": [
    {
     "data": {
      "text/plain": [
       "'Hel'"
      ]
     },
     "execution_count": 41,
     "metadata": {
      "tags": []
     },
     "output_type": "execute_result"
    }
   ],
   "source": [
    "# bỏ trống bắt đầu\n",
    "a[:3]"
   ]
  },
  {
   "cell_type": "code",
   "execution_count": 42,
   "metadata": {
    "colab": {
     "base_uri": "https://localhost:8080/",
     "height": 34
    },
    "colab_type": "code",
    "id": "Xwhpd02mOhAL",
    "outputId": "34d75217-8f76-4695-e37c-fc0e4725660c",
    "slideshow": {
     "slide_type": "subslide"
    }
   },
   "outputs": [
    {
     "data": {
      "text/plain": [
       "'llo'"
      ]
     },
     "execution_count": 42,
     "metadata": {
      "tags": []
     },
     "output_type": "execute_result"
    }
   ],
   "source": [
    "# bỏ trống kết thúc\n",
    "a[2:]"
   ]
  },
  {
   "cell_type": "code",
   "execution_count": 43,
   "metadata": {
    "colab": {
     "base_uri": "https://localhost:8080/",
     "height": 34
    },
    "colab_type": "code",
    "id": "Y8xwz0wFOmr4",
    "outputId": "b8f58e03-c366-4d8c-f546-accd13dbcc97",
    "slideshow": {
     "slide_type": "subslide"
    }
   },
   "outputs": [
    {
     "data": {
      "text/plain": [
       "'llo'"
      ]
     },
     "execution_count": 43,
     "metadata": {
      "tags": []
     },
     "output_type": "execute_result"
    }
   ],
   "source": [
    "# dùng cách đánh số thứ tự âm\n",
    "a[-3:]"
   ]
  },
  {
   "cell_type": "code",
   "execution_count": 44,
   "metadata": {
    "colab": {
     "base_uri": "https://localhost:8080/",
     "height": 34
    },
    "colab_type": "code",
    "id": "2a56ZuNnOusy",
    "outputId": "f0767e0e-e245-42c9-a1bd-cfeba228c9cf",
    "slideshow": {
     "slide_type": "subslide"
    }
   },
   "outputs": [
    {
     "data": {
      "text/plain": [
       "'ell'"
      ]
     },
     "execution_count": 44,
     "metadata": {
      "tags": []
     },
     "output_type": "execute_result"
    }
   ],
   "source": [
    "# dùng kết hợp số thứ tự âm và dương\n",
    "a[1:-1]"
   ]
  },
  {
   "cell_type": "markdown",
   "metadata": {
    "colab_type": "text",
    "id": "87MZx3RhO4KX",
    "slideshow": {
     "slide_type": "slide"
    }
   },
   "source": [
    "**Câu hỏi** :\n",
    "1. Trong trường hợp `bắt_đầu` và `kết_thúc` cùng tính âm dương, nếu như `bắt_đầu` >= `kết_thúc` thì sẽ trả về kết quả như thế nào?\n",
    "2. Trong cách đánh số thứ tự dương, nếu `kết_thúc` lớn hơn độ dài của chuỗi thì chuyện gì sẽ xảy ra?"
   ]
  },
  {
   "cell_type": "markdown",
   "metadata": {
    "colab_type": "text",
    "id": "Pq_178hgPzQ9",
    "slideshow": {
     "slide_type": "slide"
    }
   },
   "source": [
    "## Nối chuỗi\n",
    "Để nối hai hay nhiều chuỗi với nhau, bạn có thể dùng một trong 2 cách sau :\n",
    "1. Dùng phép `+`\n",
    "2. Dùng dấu `()`\n",
    "\n",
    "Cùng theo dõi ví dụ các ví dụ :"
   ]
  },
  {
   "cell_type": "code",
   "execution_count": 13,
   "metadata": {
    "colab": {
     "base_uri": "https://localhost:8080/",
     "height": 34
    },
    "colab_type": "code",
    "id": "26IdjX1rQ-3Z",
    "outputId": "790438ec-da14-4b67-a8c0-8ecee29047fd",
    "slideshow": {
     "slide_type": "subslide"
    }
   },
   "outputs": [
    {
     "name": "stdout",
     "output_type": "stream",
     "text": [
      "abcdef\n"
     ]
    }
   ],
   "source": [
    "chuoi_mot = 'abc'\n",
    "chuoi_hai = 'def'\n",
    "print(chuoi_mot + chuoi_hai)"
   ]
  },
  {
   "cell_type": "code",
   "execution_count": 49,
   "metadata": {
    "colab": {
     "base_uri": "https://localhost:8080/",
     "height": 34
    },
    "colab_type": "code",
    "id": "L8c9i3gWREgD",
    "outputId": "40ec3794-0173-4061-ed36-adf0fda11ffc",
    "slideshow": {
     "slide_type": "subslide"
    }
   },
   "outputs": [
    {
     "name": "stdout",
     "output_type": "stream",
     "text": [
      "Apple, Banana\n"
     ]
    }
   ],
   "source": [
    "print((\n",
    "    'Apple'\n",
    "    ', '\n",
    "    'Banana'\n",
    "))"
   ]
  },
  {
   "cell_type": "markdown",
   "metadata": {
    "colab_type": "text",
    "id": "8PfvyCiIRiTR",
    "slideshow": {
     "slide_type": "slide"
    }
   },
   "source": [
    "Tuy nhiên, cách 2 chỉ áp dụng được cho chuỗi chứ không áp dụng được cho biến kiểu chuỗi"
   ]
  },
  {
   "cell_type": "code",
   "execution_count": null,
   "metadata": {
    "colab": {},
    "colab_type": "code",
    "id": "eYh_wDHtRLHT",
    "slideshow": {
     "slide_type": "subslide"
    }
   },
   "outputs": [],
   "source": [
    "a = 'Apple'\n",
    "b = 'Banana'"
   ]
  },
  {
   "cell_type": "code",
   "execution_count": 52,
   "metadata": {
    "colab": {
     "base_uri": "https://localhost:8080/",
     "height": 51
    },
    "colab_type": "code",
    "id": "TwSZjW-kRwjH",
    "outputId": "6aaba51e-abe2-4b2b-8520-dfe6f89597c5",
    "slideshow": {
     "slide_type": "subslide"
    }
   },
   "outputs": [
    {
     "name": "stdout",
     "output_type": "stream",
     "text": [
      "Apple\n",
      "Banana\n"
     ]
    }
   ],
   "source": [
    "print(a + '\\n' + b)"
   ]
  },
  {
   "cell_type": "code",
   "execution_count": 55,
   "metadata": {
    "colab": {
     "base_uri": "https://localhost:8080/",
     "height": 129
    },
    "colab_type": "code",
    "id": "LCpEKShQR0Gi",
    "outputId": "ec5be814-2670-4476-d4e5-f2a6cc5ce213",
    "slideshow": {
     "slide_type": "subslide"
    }
   },
   "outputs": [
    {
     "ename": "SyntaxError",
     "evalue": "ignored",
     "output_type": "error",
     "traceback": [
      "\u001b[0;36m  File \u001b[0;32m\"<ipython-input-55-aba0cb4ff504>\"\u001b[0;36m, line \u001b[0;32m3\u001b[0m\n\u001b[0;31m    '\\n'\u001b[0m\n\u001b[0m       ^\u001b[0m\n\u001b[0;31mSyntaxError\u001b[0m\u001b[0;31m:\u001b[0m invalid syntax\n"
     ]
    }
   ],
   "source": [
    "print((\n",
    "    a\n",
    "    '\\n'\n",
    "    b\n",
    "))"
   ]
  },
  {
   "cell_type": "markdown",
   "metadata": {
    "colab_type": "text",
    "id": "EizuKg4YSQv3",
    "slideshow": {
     "slide_type": "slide"
    }
   },
   "source": [
    "## Một số phương thức của `str`"
   ]
  },
  {
   "cell_type": "markdown",
   "metadata": {
    "colab_type": "text",
    "id": "kvqNsgDHSu0Q",
    "slideshow": {
     "slide_type": "slide"
    }
   },
   "source": [
    "\n",
    "Mục này sẽ giới thiệu một số phương thức của kiểu `str`.\n",
    "\n",
    "Chúng ta cũng quy ước gọi chuỗi thực hiện phương thức là chuỗi gốc."
   ]
  },
  {
   "cell_type": "markdown",
   "metadata": {
    "colab_type": "text",
    "id": "pWOSBFCWTKJa",
    "slideshow": {
     "slide_type": "slide"
    }
   },
   "source": [
    "Phương thức `.upper()` biến toàn bộ chuỗi gốc thành ký tự in hoa.\n",
    "\n",
    "Phương thức `.lower()` biến toàn bộ chuỗi gốc thành ký tự in thường."
   ]
  },
  {
   "cell_type": "code",
   "execution_count": 6,
   "metadata": {
    "colab": {
     "base_uri": "https://localhost:8080/",
     "height": 51
    },
    "colab_type": "code",
    "id": "Xl2-xdBcR6hF",
    "outputId": "58987cc3-f5cd-4d53-b284-111509443ff8",
    "slideshow": {
     "slide_type": "subslide"
    }
   },
   "outputs": [
    {
     "name": "stdout",
     "output_type": "stream",
     "text": [
      "A Á À Ả Ã Ạ Ơ Ớ Ờ Ở Ỡ Ợ\n",
      "a á à ả ã ạ ơ ớ ờ ở ỡ ợ\n"
     ]
    }
   ],
   "source": [
    "s = 'a á à ả ã ạ ơ ớ ờ ở ỡ ợ'\n",
    "print(s.upper())\n",
    "print(s.lower())"
   ]
  },
  {
   "cell_type": "markdown",
   "metadata": {
    "colab_type": "text",
    "id": "HLep_JPGUSTi",
    "slideshow": {
     "slide_type": "slide"
    }
   },
   "source": [
    "Phương thức `.strip()` loại bỏ toàn bộ khoảng trắng ở đầu và cuối chuỗi gốc."
   ]
  },
  {
   "cell_type": "code",
   "execution_count": 7,
   "metadata": {
    "colab": {
     "base_uri": "https://localhost:8080/",
     "height": 51
    },
    "colab_type": "code",
    "id": "ccaR0gDJTxa_",
    "outputId": "45370372-9d8b-40c4-aa46-89f65ed720c3",
    "slideshow": {
     "slide_type": "subslide"
    }
   },
   "outputs": [
    {
     "name": "stdout",
     "output_type": "stream",
     "text": [
      "   \tHello  !  \n",
      "Hello  !\n"
     ]
    }
   ],
   "source": [
    "s2 = '   \\tHello  !  '\n",
    "print(s2)\n",
    "print(s2.strip())"
   ]
  },
  {
   "cell_type": "markdown",
   "metadata": {
    "colab_type": "text",
    "id": "zmNTki7AVBYR",
    "slideshow": {
     "slide_type": "slide"
    }
   },
   "source": [
    "Phương thức `.startswith(<chuỗi_thử>)` sẽ kiểm tra xem chuỗi gốc có bắt đầu bằng `chuỗi_thử` hay không.\n",
    "\n",
    "Phương thức `.endswith(<chuỗi_thử>)` sẽ kiểm tra xem chuỗi gốc có kết thúc bằng `chuỗi_thử` hay không."
   ]
  },
  {
   "cell_type": "code",
   "execution_count": 8,
   "metadata": {
    "colab": {
     "base_uri": "https://localhost:8080/",
     "height": 51
    },
    "colab_type": "code",
    "id": "U04skaqEUpWC",
    "outputId": "7b93d84a-6ff9-4830-de61-3f25cc2b830f",
    "slideshow": {
     "slide_type": "subslide"
    }
   },
   "outputs": [
    {
     "name": "stdout",
     "output_type": "stream",
     "text": [
      "True\n",
      "False\n"
     ]
    }
   ],
   "source": [
    "s3 = 'Apple, Banana, Cherry'\n",
    "print(s3.startswith('Apple'))\n",
    "print(s3.endswith('Banana'))"
   ]
  },
  {
   "cell_type": "markdown",
   "metadata": {
    "colab_type": "text",
    "id": "_Rlb9-mWWQRF",
    "slideshow": {
     "slide_type": "slide"
    }
   },
   "source": [
    "Phương thức `.find(<chuỗi_tìm>)` sẽ tìm kiếm `chuỗi_tìm` trong chuỗi gốc :\n",
    "- Nếu có `chuỗi_tìm` thì sẽ trả về vị trí đầu tiên xuất hiện.\n",
    "- Nếu không có sẽ trả về -1"
   ]
  },
  {
   "cell_type": "code",
   "execution_count": 10,
   "metadata": {
    "colab": {
     "base_uri": "https://localhost:8080/",
     "height": 51
    },
    "colab_type": "code",
    "id": "XKEtNEt8Vxex",
    "outputId": "cedf1826-4eef-4e44-956e-046d0a43d19f",
    "slideshow": {
     "slide_type": "subslide"
    }
   },
   "outputs": [
    {
     "name": "stdout",
     "output_type": "stream",
     "text": [
      "2\n",
      "-1\n"
     ]
    }
   ],
   "source": [
    "s4 = 'Hello'\n",
    "print(s4.find('ll'))\n",
    "print(s4.find('la'))"
   ]
  },
  {
   "cell_type": "markdown",
   "metadata": {
    "colab_type": "text",
    "id": "ymdDQybbXHK-",
    "slideshow": {
     "slide_type": "slide"
    }
   },
   "source": [
    "Phương thức `.split(<chuỗi_tách>)` sẽ tách chuỗi gốc theo `chuỗi_tách`."
   ]
  },
  {
   "cell_type": "code",
   "execution_count": 17,
   "metadata": {
    "colab": {
     "base_uri": "https://localhost:8080/",
     "height": 34
    },
    "colab_type": "code",
    "id": "pwONJ4gjXDf_",
    "outputId": "00c6bcb5-563f-4539-ffe1-22938b035d1b",
    "slideshow": {
     "slide_type": "subslide"
    }
   },
   "outputs": [
    {
     "name": "stdout",
     "output_type": "stream",
     "text": [
      "Apple. Banana. Cherry\n",
      "Apple, Banana, Cherry\n"
     ]
    }
   ],
   "source": [
    "s5 = 'Apple, Banana, Cherry'\n",
    "print(s5.replace(',', '.'))\n",
    "print(s5)"
   ]
  },
  {
   "cell_type": "markdown",
   "metadata": {
    "colab_type": "text",
    "id": "xIuicFDDX7Uk",
    "slideshow": {
     "slide_type": "slide"
    }
   },
   "source": [
    "**Câu hỏi** :\n",
    "1. Nếu `chuỗi_tách` không tồn tại trong chuỗi gốc, điều gì sẽ xảy ra khi gọi `.split(<chuỗi_tách>)`?\n",
    "2. Bạn có thể bỏ trống phần `chuỗi_tách`, nhưng điều gì sẽ xảy ra khi gọi `.split()`?"
   ]
  },
  {
   "cell_type": "markdown",
   "metadata": {
    "colab_type": "text",
    "id": "33-ZFC8XYhia",
    "slideshow": {
     "slide_type": "slide"
    }
   },
   "source": [
    "Trên đây là một số phương thức của chuỗi, bạn có thể xem toàn bộ phương thức của chuỗi tại [đây](https://docs.python.org/3/library/stdtypes.html#string-methods)"
   ]
  }
 ],
 "metadata": {
  "celltoolbar": "Slideshow",
  "colab": {
   "name": "Các kiểu dữ liệu trong python (tiếp)",
   "provenance": []
  },
  "kernelspec": {
   "display_name": "Python 3",
   "language": "python",
   "name": "python3"
  },
  "language_info": {
   "codemirror_mode": {
    "name": "ipython",
    "version": 3
   },
   "file_extension": ".py",
   "mimetype": "text/x-python",
   "name": "python",
   "nbconvert_exporter": "python",
   "pygments_lexer": "ipython3",
   "version": "3.12.0"
  }
 },
 "nbformat": 4,
 "nbformat_minor": 1
}
