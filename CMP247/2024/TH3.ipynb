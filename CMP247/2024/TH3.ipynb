{
 "cells": [
  {
   "cell_type": "markdown",
   "metadata": {},
   "source": [
    "**Bài 1**: Viết chương trình nhập vào một số nguyên $n\\ (n > 0)$. In ra màn hình số lượng ước của $n$. Số $k$ được gọi là ước của số $m$ khi `m % k == 0`."
   ]
  },
  {
   "cell_type": "code",
   "execution_count": null,
   "metadata": {},
   "outputs": [],
   "source": []
  },
  {
   "cell_type": "markdown",
   "metadata": {},
   "source": [
    "**Bài 2**: Viết chương trình nhập vào ba số $a$ ($a \\neq 0)$ , $b$ và $c$. In ra màn hình số nghiệm của phương trình $ax^2 + bx + c = 0$."
   ]
  },
  {
   "cell_type": "markdown",
   "metadata": {},
   "source": []
  },
  {
   "cell_type": "markdown",
   "metadata": {},
   "source": [
    "**Bài 3**: Cho 4 hình mẫu sau:\n",
    "\n",
    "1. \n",
    " ```\n",
    " *\n",
    " **\n",
    " ***\n",
    " ****\n",
    " ```\n",
    "2.\n",
    " ```\n",
    "     *\n",
    "    **\n",
    "   ***\n",
    "  ****   \n",
    " ```\n",
    "3.\n",
    " ```\n",
    " ****\n",
    " ***\n",
    " **\n",
    " *\n",
    " ```\n",
    "4.\n",
    " ```\n",
    "  ****\n",
    "   ***\n",
    "    **\n",
    "     *\n",
    " ```\n",
    "\n",
    " Viết chương trình nhập vào hình mẫu (1, 2, 3, hoặc 4) và số dòng, in ra màn hình hình tương ứng.\n"
   ]
  },
  {
   "cell_type": "code",
   "execution_count": null,
   "metadata": {},
   "outputs": [],
   "source": []
  },
  {
   "cell_type": "markdown",
   "metadata": {},
   "source": [
    "**Bài 4**: Viết chương trình nhập vào một số $n$. In ra màn hình kết quả của phép tính\n",
    "$$C = \\lfloor\\frac{n}{5}\\rfloor + \\lfloor\\frac{n}{5^2}\\rfloor + \\ldots + \\lfloor\\frac{n}{5^m}\\rfloor$$\n",
    "\n",
    "Trong đó:\n",
    "- $\\lfloor\\frac{a}{b}\\rfloor$ là thương của phép chia $a$ cho $b$.\n",
    "- $m$ là số tự nhiên sao cho $n < 5^m$."
   ]
  },
  {
   "cell_type": "markdown",
   "metadata": {},
   "source": []
  },
  {
   "cell_type": "markdown",
   "metadata": {},
   "source": [
    "**Bài 5**: Với một số nguyên dương $n$ bất kỳ, ta thực hiện thao tác sau:\n",
    "- Nếu $n$ là số chẵn, chia $n$ cho $2$.\n",
    "- Nếu $n$ là số lẻ, nhân $n$ với $3$ rồi cộng thêm $1$.\n",
    "    \n",
    "Tiếp tục thực hiện thao tác trên với số vừa nhận được. Ví dụ với $n = 5$, ta có dãy $5 \\rightarrow 16 \\rightarrow 8 \\rightarrow 4 \\rightarrow 2 \\rightarrow 1$ và từ đây sẽ lặp lại dãy $4 \\rightarrow 2 \\rightarrow 1$. \n",
    "\n",
    "*Phỏng đoán Collatz* nói rằng, với bất kỳ số nguyên dương $n$, sau hữu hạn lần thực hiện thao tác trên, ta sẽ nhận được số $1$. Tuy nhiên, phỏng đoán này đến nay chưa được chứng minh.\n",
    "\n",
    "Viết chương trình nhập vào số nguyên dương $n\\ (n \\leq 10^6)$. Nếu số nhập vào thỏa điều kiện, in ra số thao tác cần thực hiện để được số 1. Nếu số nhập vào không thỏa điều kiện, yêu cầu nhập lại.\n",
    "\n",
    "*Ví dụ*: nhập vào số $5$, in ra $5$ do cần $5$ lần thực hiện thao tác để từ $5$ biến thành $1$."
   ]
  },
  {
   "cell_type": "markdown",
   "metadata": {},
   "source": []
  },
  {
   "cell_type": "markdown",
   "metadata": {},
   "source": [
    "**Bài 6**: Viết chương trình nhập vào một số kiểu `int` có giá trị từ $0$ đến $364$. In ra màn hình ngày tháng trong năm không nhuận có số thứ tự ứng với số vừa nhập, quy ước ngày 1 tháng 1 có số thứ tự 0.\n",
    "\n",
    "Ví dụ:\n",
    "- Nhập 5, in ra ngày 6 tháng 1.\n",
    "- Nhập 125, in ra ngày 6 tháng 5."
   ]
  },
  {
   "cell_type": "markdown",
   "metadata": {},
   "source": []
  },
  {
   "cell_type": "markdown",
   "metadata": {},
   "source": [
    "**Bài 7**: Viết chương trình in tất cả những bộ ba số $(a, b, c)$ với $0 \\leq a, b, c \\leq 9$ thỏa mãn:\n",
    "$$100a + 10b + c = a^3 + b^3 + c^3$$"
   ]
  },
  {
   "cell_type": "markdown",
   "metadata": {},
   "source": []
  }
 ],
 "metadata": {
  "language_info": {
   "name": "python"
  }
 },
 "nbformat": 4,
 "nbformat_minor": 2
}
