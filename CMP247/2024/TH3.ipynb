{
 "cells": [
  {
   "cell_type": "markdown",
   "metadata": {},
   "source": [
    "**Bài 1**: Viết chương trình nhập vào một số nguyên $n\\ (n > 0)$. In ra màn hình số lượng ước của $n$. Số $k$ được gọi là ước của số $m$ khi `m % k == 0`."
   ]
  },
  {
   "cell_type": "code",
   "execution_count": null,
   "metadata": {},
   "outputs": [],
   "source": [
    "n = int(input('Nhập n'))\n",
    "c = 0\n",
    "for i in range(1, n+1):\n",
    "    if n % i == 0:\n",
    "        c = c + 1\n",
    "\n",
    "print(f'Số lượng ước của {n} là {c}')"
   ]
  },
  {
   "cell_type": "markdown",
   "metadata": {},
   "source": [
    "**Bài 2**: Viết chương trình nhập vào ba số $a$ ($a \\neq 0)$ , $b$ và $c$. In ra màn hình số nghiệm của phương trình $ax^2 + bx + c = 0$."
   ]
  },
  {
   "cell_type": "code",
   "execution_count": null,
   "metadata": {},
   "outputs": [],
   "source": [
    "a = float(input('Nhập a'))\n",
    "while a == 0:\n",
    "    a = float(input('Nhập a'))\n",
    "b = float(input('Nhập b'))\n",
    "c = float(input('Nhập c'))\n",
    "\n",
    "d = b*b - 4*a*c\n",
    "if d > 0:\n",
    "    print('Phương trình có 2 nghiệm')\n",
    "elif d == 0:\n",
    "    print('Phương trình có 1 nghiệm')\n",
    "else:\n",
    "    print('Phương trình có 0 nghiệm')"
   ]
  },
  {
   "cell_type": "markdown",
   "metadata": {},
   "source": [
    "**Bài 3**: Cho 4 hình mẫu sau:\n",
    "\n",
    "1. \n",
    " ```\n",
    " *\n",
    " **\n",
    " ***\n",
    " ****\n",
    " ```\n",
    "2.\n",
    " ```\n",
    "     *\n",
    "    **\n",
    "   ***\n",
    "  ****   \n",
    " ```\n",
    "3.\n",
    " ```\n",
    " ****\n",
    " ***\n",
    " **\n",
    " *\n",
    " ```\n",
    "4.\n",
    " ```\n",
    "  ****\n",
    "   ***\n",
    "    **\n",
    "     *\n",
    " ```\n",
    "\n",
    " Viết chương trình nhập vào hình mẫu (1, 2, 3, hoặc 4) và số dòng, in ra màn hình hình tương ứng.\n"
   ]
  },
  {
   "cell_type": "code",
   "execution_count": null,
   "metadata": {},
   "outputs": [],
   "source": [
    "p = int(input('Nhập hình mẫu (1, 2, 3, 4)'))\n",
    "while p not in (1, 2, 3, 4):\n",
    "    p = int(input('Nhập hình mẫu (1, 2, 3, 4)'))\n",
    "n = int(input('Nhập số dòng'))\n",
    "if p == 1:\n",
    "    for i in range(1, n+1):\n",
    "        print('*' * i)\n",
    "if p == 2:\n",
    "    for i in range(1, n+1):\n",
    "        print(' ' * (n-1) + '*' * i)\n",
    "if p == 3:\n",
    "    for i in range(n):\n",
    "        print('*' * (n - i))\n",
    "if p == 4:\n",
    "    for i in range(n):\n",
    "        print(' ' * i + '*' * (n - i))"
   ]
  },
  {
   "cell_type": "markdown",
   "metadata": {},
   "source": [
    "**Bài 4**: Viết chương trình nhập vào một số $n$. In ra màn hình kết quả của phép tính\n",
    "$$C = \\lfloor\\frac{n}{5}\\rfloor + \\lfloor\\frac{n}{5^2}\\rfloor + \\ldots + \\lfloor\\frac{n}{5^m}\\rfloor$$\n",
    "\n",
    "Trong đó:\n",
    "- $\\lfloor\\frac{a}{b}\\rfloor$ là thương của phép chia $a$ cho $b$.\n",
    "- $m$ là số tự nhiên sao cho $n < 5^m$."
   ]
  },
  {
   "cell_type": "code",
   "execution_count": null,
   "metadata": {},
   "outputs": [],
   "source": [
    "n = int(input('Nhập n'))\n",
    "m = 1\n",
    "C = 0\n",
    "while n > 5**m:\n",
    "    C = C + n // 5**m\n",
    "    m = m + 1"
   ]
  },
  {
   "cell_type": "markdown",
   "metadata": {},
   "source": [
    "**Bài 5**: Với một số nguyên dương $n$ bất kỳ, ta thực hiện thao tác sau:\n",
    "- Nếu $n$ là số chẵn, chia $n$ cho $2$.\n",
    "- Nếu $n$ là số lẻ, nhân $n$ với $3$ rồi cộng thêm $1$.\n",
    "    \n",
    "Tiếp tục thực hiện thao tác trên với số vừa nhận được. Ví dụ với $n = 5$, ta có dãy $5 \\rightarrow 16 \\rightarrow 8 \\rightarrow 4 \\rightarrow 2 \\rightarrow 1$ và từ đây sẽ lặp lại dãy $4 \\rightarrow 2 \\rightarrow 1$. \n",
    "\n",
    "*Phỏng đoán Collatz* nói rằng, với bất kỳ số nguyên dương $n$, sau hữu hạn lần thực hiện thao tác trên, ta sẽ nhận được số $1$. Tuy nhiên, phỏng đoán này đến nay chưa được chứng minh.\n",
    "\n",
    "Viết chương trình nhập vào số nguyên dương $n\\ (n \\leq 10^6)$. Nếu số nhập vào thỏa điều kiện, in ra số thao tác cần thực hiện để được số 1. Nếu số nhập vào không thỏa điều kiện, yêu cầu nhập lại.\n",
    "\n",
    "*Ví dụ*: nhập vào số $5$, in ra $5$ do cần $5$ lần thực hiện thao tác để từ $5$ biến thành $1$."
   ]
  },
  {
   "cell_type": "code",
   "execution_count": null,
   "metadata": {},
   "outputs": [],
   "source": [
    "n = int(input('Nhập n'))\n",
    "while not(0 < n <= 10**6):\n",
    "    n = int(input('Nhập n'))\n",
    "c = 0\n",
    "while n > 1:\n",
    "    c = c + 1\n",
    "    if n % 2 == 0:\n",
    "        n = n // 2\n",
    "    else:\n",
    "        n = n * 3 + 1\n",
    "\n",
    "print(c)"
   ]
  },
  {
   "cell_type": "markdown",
   "metadata": {},
   "source": [
    "**Bài 6**: Viết chương trình nhập vào một số kiểu `int` có giá trị từ $0$ đến $364$. In ra màn hình ngày tháng trong năm không nhuận có số thứ tự ứng với số vừa nhập, quy ước ngày 1 tháng 1 có số thứ tự 0.\n",
    "\n",
    "Ví dụ:\n",
    "- Nhập 5, in ra ngày 6 tháng 1.\n",
    "- Nhập 125, in ra ngày 6 tháng 5."
   ]
  },
  {
   "cell_type": "code",
   "execution_count": null,
   "metadata": {},
   "outputs": [],
   "source": [
    "# số ngày trong từng tháng của năm không nhuận\n",
    "days = [31, 28, 31, 30, 31, 30, 31, 31, 30, 31, 30, 31]\n",
    "\n",
    "d = int(input('Nhập số'))\n",
    "dth = d\n",
    "i = 0\n",
    "# trừ lần lượt số ngày trong từng tháng khỏi d cho đến khi d âm\n",
    "while d >= 0:\n",
    "    d = d - days[i]\n",
    "    i = i + 1\n",
    "print(f'Ngày thứ {dth} là ngày {d + days[i-1] + 1} tháng {i}')"
   ]
  },
  {
   "cell_type": "markdown",
   "metadata": {},
   "source": [
    "**Bài 7**: Viết chương trình in tất cả những bộ ba số $(a, b, c)$ với $0 \\leq a, b, c \\leq 9$ thỏa mãn:\n",
    "$$100a + 10b + c = a^3 + b^3 + c^3$$"
   ]
  },
  {
   "cell_type": "code",
   "execution_count": null,
   "metadata": {},
   "outputs": [],
   "source": [
    "for a in range(10):\n",
    "    for b in range(10):\n",
    "        for c in range(10):\n",
    "            if 100 * a + 10 * b + c == a ** 3 + b ** 3 + c ** 3:\n",
    "                print(f'({a},{b},{c})')"
   ]
  }
 ],
 "metadata": {
  "kernelspec": {
   "display_name": "Python 3",
   "language": "python",
   "name": "python3"
  },
  "language_info": {
   "codemirror_mode": {
    "name": "ipython",
    "version": 3
   },
   "file_extension": ".py",
   "mimetype": "text/x-python",
   "name": "python",
   "nbconvert_exporter": "python",
   "pygments_lexer": "ipython3",
   "version": "3.12.0"
  }
 },
 "nbformat": 4,
 "nbformat_minor": 2
}
