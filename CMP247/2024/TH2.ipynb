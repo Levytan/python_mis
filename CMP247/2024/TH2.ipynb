{
 "cells": [
  {
   "cell_type": "markdown",
   "id": "bacdd2f6",
   "metadata": {},
   "source": [
    "# Cấu trúc rẽ nhánh"
   ]
  },
  {
   "cell_type": "markdown",
   "id": "dde56383-651e-4e9b-8c11-4078bc189e72",
   "metadata": {},
   "source": [
    "**Câu 1**: Viết chương trình nhập vào ba số $a$, $b$ và $c$. Kiểm tra xem ba số vừa nhập có phải là cạnh của một tam giác hay không?\n",
    "\n",
    "*Gợi ý*:\n",
    "- Ba số $a$, $b$ và $c$ là ba cạnh của một tam giác khi và chỉ khi $|b-c| < a < b+c$.\n",
    "- Dùng hàm `abs()` để tính giá trị tuyệt đối."
   ]
  },
  {
   "cell_type": "code",
   "execution_count": null,
   "id": "e247352c-99e6-4bc7-864b-9adbf5434d46",
   "metadata": {},
   "outputs": [],
   "source": []
  },
  {
   "cell_type": "markdown",
   "id": "e8db6e71",
   "metadata": {},
   "source": [
    "**Câu 2**: Viết chương trình kiểm tra một năm dương lịch có là năm nhuận hay không?"
   ]
  },
  {
   "cell_type": "code",
   "execution_count": null,
   "id": "33e26cef",
   "metadata": {},
   "outputs": [],
   "source": []
  },
  {
   "cell_type": "markdown",
   "id": "0b234136",
   "metadata": {},
   "source": [
    "**Câu 3**: Trong mặt phẳng tọa độ $Oxy$ cho đường tròn $(O)$ có tâm tại điểm $(x, y)$ và bán kính $r$. Viết chương trình nhập vào ba số $x$, $y$ và $r$. In ra màn hình số trục tọa độ cắt đường tròn $(O)$."
   ]
  },
  {
   "cell_type": "code",
   "execution_count": null,
   "id": "a88a12be",
   "metadata": {},
   "outputs": [],
   "source": []
  },
  {
   "cell_type": "markdown",
   "id": "c5024a87",
   "metadata": {},
   "source": [
    "# Cấu trúc lặp"
   ]
  },
  {
   "cell_type": "markdown",
   "id": "b32c6a98",
   "metadata": {},
   "source": [
    "**Câu 4**: Viết chương trình in ra số lớn nhất trong một danh sách bằng cách dùng vòng lặp `for`."
   ]
  },
  {
   "cell_type": "code",
   "execution_count": null,
   "id": "bef3ed84",
   "metadata": {},
   "outputs": [],
   "source": []
  },
  {
   "cell_type": "markdown",
   "id": "74379e9d",
   "metadata": {},
   "source": [
    "**Câu 5**: Dùng vòng lặp `for`, in ra màn hình kết quả của phép tính\n",
    "$$S = 1^k + 2^k + \\ldots + n^k$$\n",
    "với $n$ và $k$ là hai số được nhập từ bàn phím."
   ]
  },
  {
   "cell_type": "code",
   "execution_count": null,
   "id": "f9a2a22b",
   "metadata": {},
   "outputs": [],
   "source": []
  },
  {
   "cell_type": "markdown",
   "id": "80549f6c",
   "metadata": {},
   "source": [
    "**Câu 6**: Viết chương trình nhập vào một số $n$ và in ra màn hình bảng cửu chương của số $n$.\n",
    "\n",
    "*Ví dụ*: Nếu nhập $n = 15$, sẽ in ra\n",
    "<pre>\n",
    "15 x 1 = 15\n",
    "15 x 2 = 30\n",
    "...\n",
    "15 x 9 = 135\n",
    "</pre>"
   ]
  },
  {
   "cell_type": "code",
   "execution_count": null,
   "id": "d2fc15e2",
   "metadata": {},
   "outputs": [],
   "source": []
  },
  {
   "cell_type": "markdown",
   "id": "6bf44d2b",
   "metadata": {},
   "source": [
    "# Bài tập tổng hợp"
   ]
  },
  {
   "cell_type": "markdown",
   "id": "cbc19613",
   "metadata": {},
   "source": [
    "**Câu 7**: Viết chương trình nhập vào một chuỗi và in ra ký tự xuất hiện nhiều nhất trong chuỗi đó.\n",
    "\n",
    "*Gợi ý*: Xây dựng một `dictionary` để đếm số lần xuất hiện của từng ký tự."
   ]
  },
  {
   "cell_type": "code",
   "execution_count": null,
   "id": "911dd188",
   "metadata": {},
   "outputs": [],
   "source": []
  },
  {
   "cell_type": "markdown",
   "id": "c879e407",
   "metadata": {},
   "source": [
    "**Câu 8**: Viết chương trình nhập vào một chuỗi và in ra màn hình số lượng từ có trong chuỗi đó. Ta định nghĩa một từ là một chuỗi các ký tự liên tục được phân cách với nhau bằng khoảng trắng. *Ví dụ*: chuỗi `'Morbi ac. Aliquam'` có các từ `'Morbi'`, `'ac.'` và `'Aliquam'`."
   ]
  },
  {
   "cell_type": "code",
   "execution_count": null,
   "id": "760ab752",
   "metadata": {},
   "outputs": [],
   "source": []
  },
  {
   "cell_type": "markdown",
   "id": "9df46c2a",
   "metadata": {},
   "source": [
    "Trong Python, số phức $z = x + yi$ có thể được tạo ra theo hai cách:\n",
    "- `x + yj`, trong đó, `j` là đơn vị phức `j*j = -1`.\n",
    "- `complex(x, y)`, hàm `complex()` còn cho phép chuyển đổi chuỗi thành số phức, ví dụ `complex('1+2j')`."
   ]
  },
  {
   "cell_type": "code",
   "execution_count": 4,
   "id": "7bbe026f",
   "metadata": {},
   "outputs": [
    {
     "name": "stdout",
     "output_type": "stream",
     "text": [
      "(2+3j)\n",
      "(-1+3j)\n",
      "(-4-4j)\n",
      "1.4142135623730951\n"
     ]
    }
   ],
   "source": [
    "a = 1 + 1j #lưu ý là phải có số trước ký hiệu j\n",
    "b = complex(1, 2)\n",
    "# thực hiện các phép tính với số phức\n",
    "print(a + b) # phép cộng\n",
    "print(a * b) # phép nhân\n",
    "print(a ** 5) # phép lũy thừa\n",
    "print(abs(a)) # lấy mô-đun"
   ]
  },
  {
   "cell_type": "markdown",
   "id": "4c160413",
   "metadata": {},
   "source": [
    "**Câu 9**: Cho số phức $z$, đặt\n",
    "$$S = \\dfrac{1}{1-z}$$\n",
    "$$S_n = 1 + z + z^2 + \\ldots + z^n$$\n",
    "Viết chương trình nhập vào một số phức $z$. Nếu mô-đun của $z$ **nhỏ hơn 1**, in ra màn hình số $n$ sao cho $|S - S_n| < 10^{-6}$.\n",
    "\n",
    "*Ví dụ*: Nếu nhập `0.5+0.5j` thì sẽ in ra $40$."
   ]
  },
  {
   "cell_type": "code",
   "execution_count": null,
   "id": "8f88ebb3",
   "metadata": {},
   "outputs": [],
   "source": []
  },
  {
   "cell_type": "markdown",
   "id": "699cf17d",
   "metadata": {},
   "source": [
    "**Câu 10**: Cho số phức $c = a + bi$, ta định nghĩa dãy số sau\n",
    "$$\n",
    "\\left\\{\\begin{matrix}\n",
    "z_0 &= &0 &\\\\ \n",
    "z_{n+1} &= &z_n^2 + c & (n \\in \\mathbb{N}) \n",
    "\\end{matrix}\\right.\n",
    "$$\n",
    "Viết chương trình nhập vào số phức $c$ và in ra màn hình số $n$ **nhỏ nhất và nhỏ hơn 1000** sao cho $|z_n| > 2$.\n",
    "Kiểm tra với các số sau:\n",
    "1. `-1.75+0.75j`\n",
    "2. `-0.25-0.5j`\n",
    "3. `0.5+0.5j`"
   ]
  },
  {
   "cell_type": "code",
   "execution_count": null,
   "id": "49e4b852",
   "metadata": {},
   "outputs": [],
   "source": []
  }
 ],
 "metadata": {
  "kernelspec": {
   "display_name": "Python 3 (ipykernel)",
   "language": "python",
   "name": "python3"
  },
  "language_info": {
   "codemirror_mode": {
    "name": "ipython",
    "version": 3
   },
   "file_extension": ".py",
   "mimetype": "text/x-python",
   "name": "python",
   "nbconvert_exporter": "python",
   "pygments_lexer": "ipython3",
   "version": "3.12.0"
  }
 },
 "nbformat": 4,
 "nbformat_minor": 5
}
