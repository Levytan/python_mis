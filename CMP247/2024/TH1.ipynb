{
 "cells": [
  {
   "cell_type": "markdown",
   "id": "c0234f4b-bd5e-4eaf-aed0-e658390a1cec",
   "metadata": {},
   "source": [
    "# Bài thực hành 1"
   ]
  },
  {
   "cell_type": "markdown",
   "id": "f8fb00c9-0351-4e10-a7e6-ba6f05df9050",
   "metadata": {},
   "source": [
    "## Tính toán trong python"
   ]
  },
  {
   "cell_type": "markdown",
   "id": "cae26479-254f-4be7-ad3f-c8f2fffa8684",
   "metadata": {},
   "source": [
    "Python có các phép tính như sau:\n",
    "- Phép cộng (`+`), phép trừ (`-`), phép nhân (`*`) và phép chia (`/`).\n",
    "- Phép lũy thừa `a ** b` ($= a^b$).\n",
    "- Phép chia nguyên `a // b` (`3 // 2 = 1`).\n",
    "- Phép chia lấy dư `a % b` (`5 % 3 = 2`)."
   ]
  },
  {
   "cell_type": "markdown",
   "id": "57cfe1cc-d522-4f51-9974-8dc01188626d",
   "metadata": {},
   "source": [
    "**Bài 1**. Viết chương trình nhập vào số $n$ kiểu `int` và in ra màn hình kết quả của các phép toán sau:\n",
    "1. $\\dfrac{1}{\\sqrt{5}}\\left[\\left(\\dfrac{1 + \\sqrt{5}}{2}\\right)^n - \\left(\\dfrac{1 - \\sqrt{5}}{2}\\right)^n\\right]$, có thể dùng $\\sqrt{x} = x^{0.5}$\n",
    "2. $\\left(1 - \\dfrac{1}{n}\\right)^n$\n",
    "3. $\\left(2 - \\dfrac{\\sqrt{2\\sqrt{2} - 2}}{2^2}\\right)^2$\n",
    "4. $\\left(\\dfrac{\\sqrt{163}}{6} - \\dfrac{181}{\\sqrt{10005}}\\right)^{-1}$\n",
    "5. $\\dfrac{1}{10} \\ln \\left(\\dfrac{2^{21}}{(\\sqrt[4]{5} - 1)^{24}} + 24\\right)$, cần chạy ô kế tiếp trước để sử dụng hàm `ln()`."
   ]
  },
  {
   "cell_type": "code",
   "execution_count": null,
   "id": "f25511bd-2865-4217-9119-013c1cd1c656",
   "metadata": {},
   "outputs": [],
   "source": [
    "# nhớ chạy ô này\n",
    "from math import log as ln"
   ]
  },
  {
   "cell_type": "code",
   "execution_count": null,
   "id": "5d970fce-f165-4272-a957-631bdb3f40d8",
   "metadata": {},
   "outputs": [],
   "source": [
    "# bài làm\n",
    "# câu 1\n",
    "n = int(input('Nhập n:'))\n",
    "sqrt5 = 5**(1/2)\n",
    "phi = (1 + sqrt5) / 2\n",
    "phi_2 = (1 - sqrt5) / 2\n",
    "f = (phi**n - phi_2**n) / sqrt5\n",
    "print(f)"
   ]
  },
  {
   "cell_type": "code",
   "execution_count": null,
   "id": "c19d72e9",
   "metadata": {},
   "outputs": [],
   "source": [
    "# câu 2\n",
    "n = int(input('Nhập n:'))\n",
    "e = (1 - 1/n)**n\n",
    "print(e)"
   ]
  },
  {
   "cell_type": "markdown",
   "id": "4f82b5f6-0f46-4f11-aaca-81498c1c6544",
   "metadata": {},
   "source": [
    "## Truyền giá trị biến vào chuỗi"
   ]
  },
  {
   "cell_type": "markdown",
   "id": "88ecfc07-6f61-4efc-856c-4b5a2803bdab",
   "metadata": {},
   "source": [
    "Giả sử ta có bài tập\n",
    "> Nhập vào 2 số a và b rồi in ra màn hình chuỗi 'Tổng của a và b là c' trong đó a, b, c được thay bằng các số thích hợp.\n",
    "> Ví dụ nhập vào a = 1, b = 2 thì câu được in sẽ là 'Tổng của 1 và 2 là 3'.\n",
    "> Ta có thể thực hiện như sau:\n",
    "\n",
    "`print('Tổng của', a, 'và', b, 'là', a+b)`"
   ]
  },
  {
   "cell_type": "markdown",
   "id": "ff62636b-5ef0-4482-80e7-e429e798b0df",
   "metadata": {},
   "source": [
    "Tuy nhiên, từ Python 3.6 trở đi, ta có thể dùng đến `f-strings` như sau:\n",
    "\n",
    "`print(f'Tổng của {a} và {b} là {a+b}')`\n",
    "\n",
    "Cú pháp của `f-strings` như sau:\n",
    "- Có ký tự `f` ngay trước khi bắt đầu chuỗi (`f''`, `f\"\"`).\n",
    "- Các biến muốn truyền vào chuỗi thì phải để trong dấu ngoặc nhọn (`{}`). Còn nếu muốn gõ ngoặc nhọn thì dùng `\\{` và `\\}`."
   ]
  },
  {
   "cell_type": "markdown",
   "id": "30e0e154-e0fc-48b0-8c17-1a9ad9b0b491",
   "metadata": {},
   "source": [
    "Ngoài ra, `f-strings` còn có các `modifier` (phép biến đổi) để định dạng giá trị của biến, một `modifier` thường dùng là `:.nf` sẽ in ra `n` chữ số trong phần thập phân của biến."
   ]
  },
  {
   "cell_type": "code",
   "execution_count": null,
   "id": "9e9b12bb-797e-4b64-addd-f68e68140758",
   "metadata": {},
   "outputs": [],
   "source": [
    "# chạy ô này\n",
    "a = 1.2345\n",
    "print(f'{a:.2f}') # in ra 2 chữ số sau dấu ."
   ]
  },
  {
   "cell_type": "markdown",
   "id": "fa6c29b0-9bdf-445f-b771-7fd093352a60",
   "metadata": {},
   "source": [
    "**Bải 2**. Viết chương trình nhập vào 2 số `a` và `b`. In ra màn hình:\n",
    "```\n",
    "a/b = c%\n",
    "```\n",
    "Thay `a`, `b`, `c` bằng các số thích hợp (có thể dùng `modifier` `:.n%`).\n",
    "\n",
    "Ví dụ: nhập `a = 1`, `b = 2` sẽ in ra `1/2 = 50.00%`."
   ]
  },
  {
   "cell_type": "code",
   "execution_count": null,
   "id": "9e47edcc-47c2-4c34-875d-ffbf14277eef",
   "metadata": {},
   "outputs": [],
   "source": [
    "# bài làm\n",
    "a = int(input('Nhập a'))\n",
    "b = int(input('Nhập b'))\n",
    "print(f'{a}/{b} = {a/b:.2%}')"
   ]
  },
  {
   "cell_type": "markdown",
   "id": "92c583be-0c3d-40cc-bb34-6d6272a08c1b",
   "metadata": {},
   "source": [
    "**Bài 3**: Cho\n",
    "- $a = \\dfrac{1}{2}(23 + 4\\sqrt{34})$\n",
    "- $b = \\dfrac{1}{2}(19\\sqrt{2} + 7\\sqrt{17})$\n",
    "- $c = (429 + 304\\sqrt{2})$\n",
    "- $d = \\dfrac{1}{2}(627 + 442\\sqrt{2})$\n",
    "\n",
    "Tính $u = (a + \\sqrt{a^2 - 1})^2 (b + \\sqrt{b^2 - 1})^2 (c + \\sqrt{c^2 - 1}) (d + \\sqrt{d^2 - 1})$.\n",
    "\n",
    "In ra màn hình kết quả của phép tính\n",
    "$$\n",
    "\\dfrac{\\ln\\left((2u)^6 + 24\\right)}{\\sqrt{3502}}\n",
    "$$\n",
    "với 40 chữ số phần thập phân"
   ]
  },
  {
   "cell_type": "code",
   "execution_count": null,
   "id": "4c7fafe2-b699-4220-9536-68692340a9fe",
   "metadata": {},
   "outputs": [],
   "source": [
    "# bài làm\n",
    "a = (23 + 4*34**(1/2)) / 2\n",
    "b = (19*2**(1/2) + 7*17**(1/2)) / 2\n",
    "c = (429 + 304*2**(1/2))\n",
    "d = (627 + 442*2**(1/2)) / 2\n",
    "u = (a + (a*a - 1)**(1/2))**2 * (b + (b*b - 1)**(1/2))**2 * (c + (c*c - 1)**(1/2)) * (d + (d*d - 1)**(1/2))\n",
    "print(f'{ln((2*u)**6 + 24) / 3502**(1/2):.40f}')"
   ]
  },
  {
   "cell_type": "markdown",
   "id": "23f1851d-1122-4ff6-b87f-cc75b310c57d",
   "metadata": {},
   "source": [
    "**Bài 4**: Viết chương trình nhập vào một chuỗi, in ra màn hình hai ký tự đầu và hai ký tự cuối của chuỗi vừa nhập."
   ]
  },
  {
   "cell_type": "code",
   "execution_count": null,
   "id": "0edab258-3a0e-4c4e-b661-0bbb3cff35bc",
   "metadata": {},
   "outputs": [],
   "source": [
    "# bài làm\n",
    "s = input('Nhập chuỗi')\n",
    "print('Hai ký tự đầu', s[:2])\n",
    "print('Hai ký tự cuối', s[-2:])"
   ]
  },
  {
   "cell_type": "markdown",
   "id": "2c89765c-f655-4dfd-a640-c14e7b218ee4",
   "metadata": {},
   "source": [
    "**Bài 5**: Cho chuỗi `123,345.789`, viết chương trình đổi dấu `,` thành dấu `.` và ngược lại (tức là thành `123.345,789`). Có thể dùng phương thức `.replace()` của chuỗi."
   ]
  },
  {
   "cell_type": "code",
   "execution_count": null,
   "id": "06cc9379-d29b-48a8-b6e5-8762461a53eb",
   "metadata": {},
   "outputs": [],
   "source": [
    "# chạy ô này để hiểu về phương thức .replace()\n",
    "s = 'abc-def-ghi'\n",
    "print(s.replace('-', '_')) # in ra abc_def_ghi"
   ]
  },
  {
   "cell_type": "code",
   "execution_count": null,
   "id": "f2c0c5c5-4c01-4a00-8d1d-370db1b5fde6",
   "metadata": {},
   "outputs": [],
   "source": [
    "s = '123,345.789'\n",
    "s = s.replace(',', '_')\n",
    "s = s.replace('.', ',')\n",
    "s = s.replace('_', '.')\n",
    "print(s)"
   ]
  }
 ],
 "metadata": {
  "kernelspec": {
   "display_name": "Python 3 (ipykernel)",
   "language": "python",
   "name": "python3"
  },
  "language_info": {
   "codemirror_mode": {
    "name": "ipython",
    "version": 3
   },
   "file_extension": ".py",
   "mimetype": "text/x-python",
   "name": "python",
   "nbconvert_exporter": "python",
   "pygments_lexer": "ipython3",
   "version": "3.12.0"
  }
 },
 "nbformat": 4,
 "nbformat_minor": 5
}
