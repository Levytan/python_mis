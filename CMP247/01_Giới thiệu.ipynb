{
 "cells": [
  {
   "cell_type": "markdown",
   "metadata": {
    "slideshow": {
     "slide_type": "slide"
    }
   },
   "source": [
    "# Cơ bản"
   ]
  },
  {
   "cell_type": "markdown",
   "metadata": {},
   "source": [
    "## Đặc trưng ngôn ngữ"
   ]
  },
  {
   "cell_type": "markdown",
   "metadata": {},
   "source": [
    "Một số điểm cần lưu ý ở python:\n",
    "- Python là ngôn ngữ phân biệt hoa thường, tức là `abc` và `AbC` là hai đối tượng khác nhau.\n",
    "- Khoảng trắng đầu dòng trong python có ý nghĩa, vì vậy, cần cẩn thận trong việc chừa khoảng trắng đầu dòng."
   ]
  },
  {
   "cell_type": "markdown",
   "metadata": {},
   "source": [
    "## Các kiểu dữ liệu cơ bản"
   ]
  },
  {
   "cell_type": "markdown",
   "metadata": {},
   "source": [
    "Trong python, chúng ta có các kiểu dữ liệu cơ bản như:\n",
    "- Số: gồm số nguyên (`1`, `1_234`) và số chấm động (`1.23`).\n",
    "- Chuỗi: là các ký tự liên tiếp giới hạn bởi `''` hoặc `\"\"` (`'abc`, `\"xyz\"`).\n",
    "- Kiểu logic: gồm  hai giá trị `True` (đúng) và `False` (sai).\n",
    "- Kiểu đặc biệt: giá trị trống `None`."
   ]
  },
  {
   "cell_type": "code",
   "execution_count": 1,
   "metadata": {},
   "outputs": [
    {
     "name": "stdout",
     "output_type": "stream",
     "text": [
      "123\n",
      "123456789\n",
      "123456.789\n"
     ]
    }
   ],
   "source": [
    "# số\n",
    "print(123)\n",
    "print(123_456_789) # có thể dùng _ để tách số cho để theo dõi\n",
    "print(123_456.789)"
   ]
  },
  {
   "cell_type": "code",
   "execution_count": 2,
   "metadata": {},
   "outputs": [
    {
     "name": "stdout",
     "output_type": "stream",
     "text": [
      "abc\n",
      "abcdef\n"
     ]
    }
   ],
   "source": [
    "# chuỗi\n",
    "print('abc')\n",
    "print(\"abcdef\")"
   ]
  },
  {
   "cell_type": "code",
   "execution_count": 4,
   "metadata": {},
   "outputs": [
    {
     "name": "stdout",
     "output_type": "stream",
     "text": [
      "False\n",
      "True\n"
     ]
    }
   ],
   "source": [
    "# kiểu logic\n",
    "# phép so sánh sẽ trả về True hoặc False\n",
    "print(1 > 2)\n",
    "print(1 + 1 == 2)"
   ]
  },
  {
   "cell_type": "markdown",
   "metadata": {},
   "source": [
    "## Gán biến"
   ]
  },
  {
   "cell_type": "markdown",
   "metadata": {
    "slideshow": {
     "slide_type": "subslide"
    }
   },
   "source": [
    "Để gán biến (đặt tên cho giá trị) trong python, bạn thực hiện như sau :\n",
    "```\n",
    "<tên_biến> = <giá_trị>\n",
    "```"
   ]
  },
  {
   "cell_type": "markdown",
   "metadata": {
    "slideshow": {
     "slide_type": "subslide"
    }
   },
   "source": [
    "Một số quy ước khi đặt tên biến :\n",
    "- Chỉ bao gồm các ký tự `a-z`, `A-Z`, `0-9`, `_`.\n",
    "- Không được bắt đầu bằng ký tự số, \n",
    "- Không nên viết hoa toàn bộ tên biến.\n",
    "- Theo một trong 3 cách sau :\n",
    "    - PascalCase : viết hoa các chữ cái đầu từ (MonthInYear, ...)\n",
    "    - camelCase : giống PascalCase nhưng viết thường ký tự đầu tiên\n",
    "    - Viết thường toàn bộ và dùng `_` thay thế cho `' '` (man_of_the_match)"
   ]
  },
  {
   "cell_type": "markdown",
   "metadata": {},
   "source": [
    "## Phép toán cơ bản"
   ]
  },
  {
   "cell_type": "markdown",
   "metadata": {},
   "source": [
    "Python có một số phép toán cơ bản như:\n",
    "- Phép cộng `+`, phép trừ `-`.\n",
    "- Phép nhân `*`, phép chia `/`.\n",
    "- Phép lũy thừa `**`.\n",
    "- Phép chia lấy thương `//`.\n",
    "- Phép chia lấy dư `%`."
   ]
  },
  {
   "cell_type": "code",
   "execution_count": 7,
   "metadata": {},
   "outputs": [
    {
     "name": "stdout",
     "output_type": "stream",
     "text": [
      "13\n",
      "30\n",
      "59049\n",
      "3\n",
      "1\n"
     ]
    }
   ],
   "source": [
    "a = 3\n",
    "b = 10\n",
    "print(a+b)\n",
    "print(a*b)\n",
    "print(a**b)\n",
    "print(b//a)\n",
    "print(b%a)"
   ]
  },
  {
   "cell_type": "markdown",
   "metadata": {},
   "source": [
    "## Comment\n",
    "\n",
    "Comment (bình luận) là những dòng người dùng viết để ghi chú những hành động của mình.\n",
    "Những dòng này sẽ được python bỏ qua khi chạy chương trình.\n",
    "Comment được bắt đầu bằng `#` và sẽ kết thúc khi qua dòng mới (nhấn Enter để xuống dòng)."
   ]
  },
  {
   "cell_type": "code",
   "execution_count": 8,
   "metadata": {},
   "outputs": [],
   "source": [
    "# đây là comment\n",
    "a = 123 # đây cũng là comment"
   ]
  },
  {
   "cell_type": "markdown",
   "metadata": {},
   "source": [
    "# Một số câu lệnh cơ bản"
   ]
  },
  {
   "cell_type": "markdown",
   "metadata": {
    "slideshow": {
     "slide_type": "slide"
    }
   },
   "source": [
    "## `print()`"
   ]
  },
  {
   "cell_type": "markdown",
   "metadata": {
    "slideshow": {
     "slide_type": "subslide"
    }
   },
   "source": [
    "`print()` dùng để in ra màn hình theo cú pháp:\n",
    "```\n",
    "print(<giá_trị_1>, <giá_trị_2>, ...)\n",
    "```\n",
    "`<giá_trị_1>, <giá_trị_2>, ...` có thể là một giá trị cụ thể hoặc một tên biến nào đó."
   ]
  },
  {
   "cell_type": "code",
   "execution_count": 1,
   "metadata": {
    "slideshow": {
     "slide_type": "subslide"
    }
   },
   "outputs": [
    {
     "name": "stdout",
     "output_type": "stream",
     "text": [
      "Hello!\n"
     ]
    }
   ],
   "source": [
    "print('Hello!')"
   ]
  },
  {
   "cell_type": "code",
   "execution_count": 2,
   "metadata": {
    "slideshow": {
     "slide_type": "subslide"
    }
   },
   "outputs": [
    {
     "name": "stdout",
     "output_type": "stream",
     "text": [
      "1048576\n"
     ]
    }
   ],
   "source": [
    "a = 2**20\n",
    "print(a)"
   ]
  },
  {
   "cell_type": "code",
   "execution_count": 5,
   "metadata": {
    "slideshow": {
     "slide_type": "subslide"
    }
   },
   "outputs": [
    {
     "name": "stdout",
     "output_type": "stream",
     "text": [
      "1 a\n"
     ]
    }
   ],
   "source": [
    "print(1, 'a')"
   ]
  },
  {
   "cell_type": "markdown",
   "metadata": {
    "slideshow": {
     "slide_type": "slide"
    }
   },
   "source": [
    "## `input()`"
   ]
  },
  {
   "cell_type": "markdown",
   "metadata": {
    "slideshow": {
     "slide_type": "subslide"
    }
   },
   "source": [
    "Dùng để cho người dùng nhập giá trị từ bàn phím, thường dùng theo cú pháp:\n",
    "```\n",
    "<tên_biến> = input([lời_nhắn])\n",
    "```"
   ]
  },
  {
   "cell_type": "code",
   "execution_count": 5,
   "metadata": {
    "slideshow": {
     "slide_type": "subslide"
    }
   },
   "outputs": [
    {
     "name": "stdout",
     "output_type": "stream",
     "text": [
      "Nhập a : rsthgjjhj\n"
     ]
    }
   ],
   "source": [
    "a = input('Nhập a: ')\n",
    "print(a)"
   ]
  },
  {
   "cell_type": "markdown",
   "metadata": {
    "slideshow": {
     "slide_type": "subslide"
    }
   },
   "source": [
    "Tuy nhiên, `input()` luôn hiểu giá trị nhập vào là chuỗi ký tự `str`. \n",
    "Vì vậy, nếu muốn nhập vào số, bạn phải chuyển đổi qua kiểu dữ liệu."
   ]
  },
  {
   "cell_type": "markdown",
   "metadata": {
    "slideshow": {
     "slide_type": "slide"
    }
   },
   "source": [
    "## `int()` và `float()`"
   ]
  },
  {
   "cell_type": "markdown",
   "metadata": {
    "slideshow": {
     "slide_type": "subslide"
    }
   },
   "source": [
    "Dùng để chuyển đổi chuỗi số thành số. Trong đó :\n",
    "- `int()` sẽ chuyển chuỗi số thành số kiểu `int` (số nguyên).\n",
    "- `float()` sẽ chuyển chuỗi số thành số kiểu `float` (số chấm động)."
   ]
  },
  {
   "cell_type": "code",
   "execution_count": 14,
   "metadata": {
    "slideshow": {
     "slide_type": "subslide"
    }
   },
   "outputs": [
    {
     "data": {
      "text/plain": [
       "123"
      ]
     },
     "execution_count": 14,
     "metadata": {},
     "output_type": "execute_result"
    }
   ],
   "source": [
    "int('123')"
   ]
  },
  {
   "cell_type": "code",
   "execution_count": 7,
   "metadata": {
    "slideshow": {
     "slide_type": "subslide"
    }
   },
   "outputs": [
    {
     "data": {
      "text/plain": [
       "123.0"
      ]
     },
     "execution_count": 7,
     "metadata": {},
     "output_type": "execute_result"
    }
   ],
   "source": [
    "float('123')"
   ]
  },
  {
   "cell_type": "code",
   "execution_count": 10,
   "metadata": {},
   "outputs": [
    {
     "name": "stdout",
     "output_type": "stream",
     "text": [
      "144\n"
     ]
    }
   ],
   "source": [
    "# dùng int() để chuyển đổi chuỗi nhập từ bàn phím thành số\n",
    "a = input('Nhập a') # nhập chuỗi số\n",
    "a = int(a) # chuyển đổi chuỗi vừa nhập thành số\n",
    "print(a*a)"
   ]
  },
  {
   "cell_type": "code",
   "execution_count": 11,
   "metadata": {},
   "outputs": [
    {
     "name": "stdout",
     "output_type": "stream",
     "text": [
      "12.0\n"
     ]
    }
   ],
   "source": [
    "# có thể kết hợp input() và int()/float() trong một dòng\n",
    "b = float(input('Nhập b'))\n",
    "print(b)"
   ]
  },
  {
   "cell_type": "markdown",
   "metadata": {
    "slideshow": {
     "slide_type": "slide"
    }
   },
   "source": [
    "## `str()`"
   ]
  },
  {
   "cell_type": "markdown",
   "metadata": {
    "slideshow": {
     "slide_type": "subslide"
    }
   },
   "source": [
    "Dùng để chuyển đổi số thành chuỗi số."
   ]
  },
  {
   "cell_type": "code",
   "execution_count": 29,
   "metadata": {
    "slideshow": {
     "slide_type": "subslide"
    }
   },
   "outputs": [
    {
     "data": {
      "text/plain": [
       "'123'"
      ]
     },
     "execution_count": 29,
     "metadata": {},
     "output_type": "execute_result"
    }
   ],
   "source": [
    "str(123)"
   ]
  }
 ],
 "metadata": {
  "celltoolbar": "Slideshow",
  "kernelspec": {
   "display_name": "Python 3",
   "language": "python",
   "name": "python3"
  },
  "language_info": {
   "codemirror_mode": {
    "name": "ipython",
    "version": 3
   },
   "file_extension": ".py",
   "mimetype": "text/x-python",
   "name": "python",
   "nbconvert_exporter": "python",
   "pygments_lexer": "ipython3",
   "version": "3.12.0"
  }
 },
 "nbformat": 4,
 "nbformat_minor": 2
}
