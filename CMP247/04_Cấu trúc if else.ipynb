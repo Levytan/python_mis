{
 "cells": [
  {
   "cell_type": "markdown",
   "metadata": {
    "colab_type": "text",
    "id": "4sm1ySPa0Zii",
    "slideshow": {
     "slide_type": "slide"
    }
   },
   "source": [
    "# Cấu trúc rẽ nhánh"
   ]
  },
  {
   "cell_type": "markdown",
   "metadata": {},
   "source": [
    "# Biểu thức logic"
   ]
  },
  {
   "cell_type": "markdown",
   "metadata": {},
   "source": [
    "## Giá trị boolean\n",
    "Là các giá trị đặc biệt của python để biểu diễn tính đúng sai, gồm 2 giá trị:\n",
    "- `True`: để chỉ giá trị đúng, và\n",
    "- `False`: để chỉ giá trị sai."
   ]
  },
  {
   "cell_type": "markdown",
   "metadata": {},
   "source": [
    "## Biểu thức logic\n",
    "Biểu thức logic trong python là một biểu thức mà kết quả trả về của nó là `True` hoặc `False`."
   ]
  },
  {
   "cell_type": "code",
   "execution_count": 1,
   "metadata": {},
   "outputs": [
    {
     "name": "stdout",
     "output_type": "stream",
     "text": [
      "False\n",
      "False\n"
     ]
    }
   ],
   "source": [
    "# ví dụ\n",
    "print(3 > 5)\n",
    "# ví dụ\n",
    "a = 3 + 1\n",
    "print(not (a == 4))"
   ]
  },
  {
   "cell_type": "markdown",
   "metadata": {},
   "source": [
    "## Các phép toán so sánh\n",
    "Các phép toán so sánh cơ bản trong python bao gồm:\n",
    "- `==`: so sánh bằng.\n",
    "- `!=`: so sánh khác.\n",
    "- `>`, `>=`: so sánh lớn hơn.\n",
    "- `<`, `<=`: so sánh bé hơn."
   ]
  },
  {
   "cell_type": "code",
   "execution_count": 2,
   "metadata": {},
   "outputs": [
    {
     "name": "stdout",
     "output_type": "stream",
     "text": [
      "True\n"
     ]
    }
   ],
   "source": [
    "# ví dụ\n",
    "print(1 + 2 == 3)"
   ]
  },
  {
   "cell_type": "markdown",
   "metadata": {},
   "source": [
    "## Các phép toán logic\n",
    "Trong python, chúng ta có thể ghép các biểu thức logic lại với nhau bằng các phép toán logic để tạo ra những biểu thức logic phức tạp.\n",
    "Các phép toán logic trong python bao gồm (`P`, `Q` là các phép toán so sánh):\n",
    "\n",
    "|Biểu thức|Cú pháp|\n",
    "|--|--|\n",
    "|`and`| `P and Q`|\n",
    "|`or`| `P or Q`|\n",
    "|`not`| `not P`|\n",
    "\n",
    "![Bảng chân trị](https://pythonnumericalmethods.berkeley.edu/_images/01.05.01-truth_table.png)"
   ]
  },
  {
   "cell_type": "markdown",
   "metadata": {},
   "source": [
    "\n",
    "**Lưu ý**: \n",
    "- Phép toán `not` có độ ưu tiên cao hơn phép toán `and` và `or`.\n",
    "- Có thể dùng dấu ngoặc để thay đổi thứ tự thực hiện các phép toán logic."
   ]
  },
  {
   "cell_type": "code",
   "execution_count": 3,
   "metadata": {},
   "outputs": [
    {
     "name": "stdout",
     "output_type": "stream",
     "text": [
      "True\n",
      "False\n"
     ]
    }
   ],
   "source": [
    "# ví dụ\n",
    "P = (3 < 1)\n",
    "Q = (1 + 1 == 2)\n",
    "print(not (3 < 1) and (1 + 1 == 2))\n",
    "print(not (P or Q))"
   ]
  },
  {
   "cell_type": "markdown",
   "metadata": {},
   "source": [
    "## Lưu ý"
   ]
  },
  {
   "cell_type": "markdown",
   "metadata": {},
   "source": [
    "Python quy ước các giá trị `0` (số 0), `''` (chuỗi trống) và `None` (giá trị trống) là tương đương với `False`."
   ]
  },
  {
   "cell_type": "code",
   "execution_count": 5,
   "metadata": {},
   "outputs": [
    {
     "name": "stdout",
     "output_type": "stream",
     "text": [
      "True\n",
      "True\n",
      "True\n"
     ]
    }
   ],
   "source": [
    "print(not 0)\n",
    "print(not '')\n",
    "print(not None)"
   ]
  },
  {
   "cell_type": "code",
   "execution_count": 8,
   "metadata": {},
   "outputs": [
    {
     "name": "stdout",
     "output_type": "stream",
     "text": [
      "True\n",
      "False\n",
      "False\n"
     ]
    }
   ],
   "source": [
    "# tương đương này là về logic, không nhất thiết là đồng nhất về giá trị\n",
    "print(0 == False)\n",
    "print('' == False)\n",
    "print(None == False)"
   ]
  },
  {
   "cell_type": "markdown",
   "metadata": {
    "colab_type": "text",
    "id": "7vZnWyaVPy8n",
    "slideshow": {
     "slide_type": "slide"
    }
   },
   "source": [
    "## Cú pháp rẽ nhánh"
   ]
  },
  {
   "cell_type": "markdown",
   "metadata": {
    "colab_type": "text",
    "id": "OjqMxBwNHncp",
    "slideshow": {
     "slide_type": "subslide"
    }
   },
   "source": [
    "Cấu trúc rẽ nhánh được thể hiện qua sơ đồ sau:\n",
    "\n",
    "![Cấu trúc rẽ nhánh đầy đủ](https://i.imgur.com/QPt0gUc.png)"
   ]
  },
  {
   "cell_type": "markdown",
   "metadata": {
    "colab_type": "text",
    "id": "5hyLvdbbLLjm",
    "slideshow": {
     "slide_type": "subslide"
    }
   },
   "source": [
    "Chúng ta sẽ kiểm tra điều kiện:\n",
    "- Nếu điều kiện đúng, chúng ta thực hiện **hành động 1** rồi thực hiện tiếp **hành động 3**.\n",
    "- Nếu điều kiện sai, chúng ta thực hiện **hành động 2** rồi thực hiện tiếp **hành động 3**"
   ]
  },
  {
   "cell_type": "markdown",
   "metadata": {
    "colab_type": "text",
    "id": "SWDZwNMvOQO8",
    "slideshow": {
     "slide_type": "slide"
    }
   },
   "source": [
    "## Cách viết trong python"
   ]
  },
  {
   "cell_type": "markdown",
   "metadata": {
    "colab_type": "text",
    "id": "X0GUWyHNP6TI",
    "slideshow": {
     "slide_type": "subslide"
    }
   },
   "source": [
    "Để viết câu lệnh rẽ nhánh trong python, chúng ta viết như sau :\n",
    "```\n",
    "if <điều_kiện>:\n",
    "    <hành_động_khi_đúng>\n",
    "else:\n",
    "    <hành_động_khi_sai>\n",
    "```\n",
    "*Lưu ý*:\n",
    "- `<điều_kiện>` là một biểu thức logic.\n",
    "- `<hành_động_khi_đúng>` và `<hành_động_khi_sai>` đều được viết thụt vào một tab so với `if` và `else`."
   ]
  },
  {
   "cell_type": "code",
   "execution_count": 5,
   "metadata": {
    "code_folding": [],
    "colab": {
     "base_uri": "https://localhost:8080/",
     "height": 51
    },
    "colab_type": "code",
    "executionInfo": {
     "elapsed": 1186,
     "status": "ok",
     "timestamp": 1574680629869,
     "user": {
      "displayName": "Thành Văn Lê",
      "photoUrl": "https://lh3.googleusercontent.com/a-/AAuE7mAgUkQ2GE-tsxoWEYe_U05qJtOKvxJIpQHtrRap=s64",
      "userId": "01710290652638436201"
     },
     "user_tz": -420
    },
    "id": "TQSjUxt1LFTf",
    "outputId": "c23906b8-84fd-43a3-c4f7-24a7beddd2af",
    "slideshow": {
     "slide_type": "subslide"
    }
   },
   "outputs": [
    {
     "name": "stdout",
     "output_type": "stream",
     "text": [
      "Nhập a 123\n",
      "Đây là số không âm.\n",
      "\n",
      "Dù đúng hay sai, câu này luôn được in.\n"
     ]
    }
   ],
   "source": [
    "# tạo biến a\n",
    "a = int(input('Nhập a '))\n",
    "# cấu trúc rẽ nhánh\n",
    "if a >= 0:\n",
    "  print('Đây là số không âm.')\n",
    "  print('')\n",
    "else: # a < 0\n",
    "  print('Đây là số âm.')\n",
    "\n",
    "print('Dù đúng hay sai, câu này luôn được in.')"
   ]
  },
  {
   "cell_type": "markdown",
   "metadata": {
    "colab_type": "text",
    "id": "TgaHnYg6Rod5",
    "slideshow": {
     "slide_type": "slide"
    }
   },
   "source": [
    "Bạn có thể bỏ qua phần `else` nếu như không có hành động gì. Lúc này, ta sẽ có dạng *không đầy đủ* của cấu trúc rẽ nhánh."
   ]
  },
  {
   "cell_type": "code",
   "execution_count": 6,
   "metadata": {
    "colab": {
     "base_uri": "https://localhost:8080/",
     "height": 34
    },
    "colab_type": "code",
    "executionInfo": {
     "elapsed": 1991,
     "status": "ok",
     "timestamp": 1574684354146,
     "user": {
      "displayName": "Thành Văn Lê",
      "photoUrl": "https://lh3.googleusercontent.com/a-/AAuE7mAgUkQ2GE-tsxoWEYe_U05qJtOKvxJIpQHtrRap=s64",
      "userId": "01710290652638436201"
     },
     "user_tz": -420
    },
    "id": "-s-b1UAlRoDc",
    "outputId": "0c716101-617c-41c0-b603-a8d488a81926",
    "slideshow": {
     "slide_type": "subslide"
    }
   },
   "outputs": [
    {
     "name": "stdout",
     "output_type": "stream",
     "text": [
      "Dù đúng hay sai, câu này luôn có!\n"
     ]
    }
   ],
   "source": [
    "b = -2\n",
    "if b > 0:\n",
    "  print('Đây là số dương')\n",
    "print('Dù đúng hay sai, câu này luôn có!')"
   ]
  },
  {
   "cell_type": "markdown",
   "metadata": {
    "colab_type": "text",
    "id": "x9aVAYI50aEc",
    "slideshow": {
     "slide_type": "slide"
    }
   },
   "source": [
    "**Bài tập** : Viết chương trình nhập vào một số. Nếu là số chẵn thì in ra `'Đây là số chẵn'`, ngược lại, nếu là số lẻ thì in ra `'Đây là số lẻ'`."
   ]
  },
  {
   "cell_type": "markdown",
   "metadata": {
    "colab_type": "text",
    "id": "HuCaHJCF1dYO",
    "slideshow": {
     "slide_type": "slide"
    }
   },
   "source": [
    "# Cấu trúc rẽ nhánh nâng cao"
   ]
  },
  {
   "cell_type": "markdown",
   "metadata": {
    "colab_type": "text",
    "id": "i-b5IELz146d",
    "slideshow": {
     "slide_type": "slide"
    }
   },
   "source": [
    "## Cấu trúc rẽ nhánh lồng nhau\n",
    "Bên trong các `hành_động` ở trên, có thể sử dụng các cấu trúc rẽ nhánh khác. Người ta gọi đó là cấu trúc rẽ nhánh lồng nhau."
   ]
  },
  {
   "cell_type": "code",
   "execution_count": 4,
   "metadata": {
    "code_folding": [],
    "colab": {
     "base_uri": "https://localhost:8080/",
     "height": 34
    },
    "colab_type": "code",
    "executionInfo": {
     "elapsed": 1226,
     "status": "ok",
     "timestamp": 1574690871327,
     "user": {
      "displayName": "Thành Văn Lê",
      "photoUrl": "https://lh3.googleusercontent.com/a-/AAuE7mAgUkQ2GE-tsxoWEYe_U05qJtOKvxJIpQHtrRap=s64",
      "userId": "01710290652638436201"
     },
     "user_tz": -420
    },
    "id": "J-kUBojPEo0N",
    "outputId": "65147103-ba3e-4d0e-f47e-104dcf673467",
    "slideshow": {
     "slide_type": "subslide"
    }
   },
   "outputs": [
    {
     "name": "stdout",
     "output_type": "stream",
     "text": [
      "Chúc bạn may mắn lần sau\n"
     ]
    }
   ],
   "source": [
    "# ví dụ :\n",
    "a = 4\n",
    "if a >= 5:\n",
    "    if a > 8.5:\n",
    "        print('Học sinh giỏi')\n",
    "    else: # a < 8.5\n",
    "        if a > 7:\n",
    "            print('Học sinh khá')\n",
    "        else:\n",
    "            print('Học sinh trung bình')\n",
    "else:\n",
    "    print('Chúc bạn may mắn lần sau')"
   ]
  },
  {
   "cell_type": "markdown",
   "metadata": {
    "colab_type": "text",
    "id": "O985z7n35AsT",
    "slideshow": {
     "slide_type": "slide"
    }
   },
   "source": [
    "## Cấu trúc rẽ nhánh bậc thang\n",
    "Đây là một trường hợp đặc biệt của dạng lồng nhau, khi bạn kiểm tra lần lượt từng điều kiện. Tức là, bạn kiểm tra điều kiện 1, nếu điều kiện 1 sai, bạn kiểm tra điều kiện 2, nếu lại sai, bạn kiểm tra điều kiện 3, cứ thế đến điều kiện cuối cùng.\n"
   ]
  },
  {
   "cell_type": "markdown",
   "metadata": {
    "colab_type": "text",
    "id": "pURS_7oK5yiE",
    "slideshow": {
     "slide_type": "subslide"
    }
   },
   "source": [
    "Cấu trúc rẽ nhánh bậc thang được viết trong python như sau :\n",
    "```\n",
    "if <điều_kiện_1> :\n",
    "    <hành_động_1>\n",
    "elif <điều_kiện_2> :\n",
    "    <hành_động_2>\n",
    "elif <điều_kiện_3> :\n",
    "    <hành_động_3>\n",
    "...\n",
    "else :\n",
    "    <hành_động_gì_đó>\n",
    "```"
   ]
  },
  {
   "cell_type": "markdown",
   "metadata": {
    "colab_type": "text",
    "id": "-wZijiGf6f4E",
    "slideshow": {
     "slide_type": "subslide"
    }
   },
   "source": [
    "Lưu ý :\n",
    "- Số lượng `elif` là không giới hạn.\n",
    "- Có thể không có `else` hoặc có một `else`. "
   ]
  },
  {
   "cell_type": "code",
   "execution_count": 5,
   "metadata": {
    "colab": {
     "base_uri": "https://localhost:8080/",
     "height": 51
    },
    "colab_type": "code",
    "executionInfo": {
     "elapsed": 11594,
     "status": "ok",
     "timestamp": 1574691572553,
     "user": {
      "displayName": "Thành Văn Lê",
      "photoUrl": "https://lh3.googleusercontent.com/a-/AAuE7mAgUkQ2GE-tsxoWEYe_U05qJtOKvxJIpQHtrRap=s64",
      "userId": "01710290652638436201"
     },
     "user_tz": -420
    },
    "id": "zjRbyhD16fjV",
    "outputId": "4e0a4e1e-65b6-49a9-d565-a5672d9a0db2",
    "slideshow": {
     "slide_type": "subslide"
    }
   },
   "outputs": [
    {
     "name": "stdout",
     "output_type": "stream",
     "text": [
      "Nhập điểm trung bình 2\n",
      "Học sinh kém\n"
     ]
    }
   ],
   "source": [
    "# ví dụ\n",
    "dt = float(input('Nhập điểm trung bình '))\n",
    "if dt > 8 :\n",
    "  print('Học sinh giỏi')\n",
    "elif dt > 6.5 :\n",
    "  print('Học sinh khá')\n",
    "elif dt > 5 :\n",
    "  print('Học sinh trung bình')\n",
    "elif dt > 2 :\n",
    "  print('Học sinh yếu')\n",
    "else :\n",
    "  print('Học sinh kém')"
   ]
  },
  {
   "cell_type": "markdown",
   "metadata": {
    "colab_type": "text",
    "id": "w0pAqEjlEFbo",
    "slideshow": {
     "slide_type": "slide"
    }
   },
   "source": [
    "# Phép gán có điều kiện"
   ]
  },
  {
   "cell_type": "markdown",
   "metadata": {
    "colab_type": "text",
    "id": "d-DXj_HvEPh3",
    "slideshow": {
     "slide_type": "slide"
    }
   },
   "source": [
    "Giả sử chúng ta có một biến `x`, chúng ta muốn gán giá trị cho `x` tuỳ thuộc một điều kiện nào đó. Về cơ bản, chúng ta có thể viết như sau\n",
    "```\n",
    "if <điều_kiện> :\n",
    "    x = <giá_trị_khi_điều_kiện_đúng>\n",
    "else :\n",
    "    x = <giá_trị_khi_điều_kiện_sai>\n",
    "```"
   ]
  },
  {
   "cell_type": "markdown",
   "metadata": {
    "colab_type": "text",
    "id": "NmZa0w5AFdwK",
    "slideshow": {
     "slide_type": "subslide"
    }
   },
   "source": [
    "Trong nhiều ngôn ngữ lập trình, người ta thay thế đoạn trên bằng 1 cú pháp gán đặc biệt được gọi là phép gán có điều kiện.\n",
    "\n",
    "Phép gán có điều kiện trong python được viết như sau:\n",
    "```\n",
    "<tên_biến> = <giá_trị_khi_đúng> if <điều_kiện> else <giá_trị_khi_sai>\n",
    "```\n",
    "và đọc hiểu là `tên_biến` sẽ có `giá_trị_khi_đúng` nếu `điều_kiện` được thoả, còn không sẽ có `giá_trị_khi_sai`."
   ]
  },
  {
   "cell_type": "code",
   "execution_count": 14,
   "metadata": {
    "colab": {
     "base_uri": "https://localhost:8080/",
     "height": 34
    },
    "colab_type": "code",
    "executionInfo": {
     "elapsed": 1308,
     "status": "ok",
     "timestamp": 1574694398136,
     "user": {
      "displayName": "Thành Văn Lê",
      "photoUrl": "https://lh3.googleusercontent.com/a-/AAuE7mAgUkQ2GE-tsxoWEYe_U05qJtOKvxJIpQHtrRap=s64",
      "userId": "01710290652638436201"
     },
     "user_tz": -420
    },
    "id": "tudGGwYVDjWF",
    "outputId": "09bc7624-1d04-42d0-d651-d8f9b02007d0",
    "slideshow": {
     "slide_type": "subslide"
    }
   },
   "outputs": [
    {
     "name": "stdout",
     "output_type": "stream",
     "text": [
      "2\n"
     ]
    }
   ],
   "source": [
    "# ví dụ\n",
    "d = 1 if (1 > 2) else 2\n",
    "print(d)"
   ]
  }
 ],
 "metadata": {
  "celltoolbar": "Slideshow",
  "colab": {
   "name": "Cấu trúc rẽ nhánh",
   "provenance": []
  },
  "kernelspec": {
   "display_name": "Python 3",
   "language": "python",
   "name": "python3"
  },
  "language_info": {
   "codemirror_mode": {
    "name": "ipython",
    "version": 3
   },
   "file_extension": ".py",
   "mimetype": "text/x-python",
   "name": "python",
   "nbconvert_exporter": "python",
   "pygments_lexer": "ipython3",
   "version": "3.12.0"
  }
 },
 "nbformat": 4,
 "nbformat_minor": 1
}
