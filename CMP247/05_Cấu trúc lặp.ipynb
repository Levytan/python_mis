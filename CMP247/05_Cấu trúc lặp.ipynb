{
 "cells": [
  {
   "cell_type": "markdown",
   "metadata": {
    "colab_type": "text",
    "id": "IcHsFyknNGau",
    "slideshow": {
     "slide_type": "slide"
    }
   },
   "source": [
    "# Giới thiệu"
   ]
  },
  {
   "cell_type": "markdown",
   "metadata": {
    "colab_type": "text",
    "id": "P-76FiVqRV3A",
    "slideshow": {
     "slide_type": "subslide"
    }
   },
   "source": [
    "Trong lập trình, chúng ta thường gặp phải vấn đề phải thực hiện một hành động lặp đi lặp lại, chẳng hạn như việc tính tổng $S = 1 + 2 + 3 + ... + 100$ (thực hiện 99 phép cộng). Để giải quyết, người ta sử dụng đến cấu trúc lặp."
   ]
  },
  {
   "cell_type": "markdown",
   "metadata": {
    "colab_type": "text",
    "id": "ryb7CCMoTGNv",
    "slideshow": {
     "slide_type": "subslide"
    }
   },
   "source": [
    "Sơ đồ của cấu trúc lặp như sau :\n",
    "\n",
    "![Fig1](https://i.imgur.com/KSqYtQb.png)"
   ]
  },
  {
   "cell_type": "markdown",
   "metadata": {
    "colab_type": "text",
    "id": "TRZ4ptBFU9I1",
    "slideshow": {
     "slide_type": "slide"
    }
   },
   "source": [
    "Ví dụ như trong việc tính tổng ở trên, bạn có thể thực hiện nó theo cách sau :\n",
    "1. Cho biến `i` bằng 0, cho biến `S` bằng 0.\n",
    "2. Nếu `i` > 100, kết thúc vòng lặp.\n",
    "3. Gán `S` mới bằng `S` cũ cộng thêm i, tăng biến i thêm 1 rồi quay lại bước 2.\n",
    "4. Xuất ra kết quả."
   ]
  },
  {
   "cell_type": "markdown",
   "metadata": {
    "colab_type": "text",
    "id": "_6CgrmTIV2v8",
    "slideshow": {
     "slide_type": "slide"
    }
   },
   "source": [
    "Tùy thuộc vào điều kiện, bạn có thể chia thành 2 dạng lặp:\n",
    "* Lặp theo số lần biết trước.\n",
    "* Lặp theo điều kiện."
   ]
  },
  {
   "cell_type": "markdown",
   "metadata": {
    "colab_type": "text",
    "id": "hIi2dgn0YGcq",
    "slideshow": {
     "slide_type": "slide"
    }
   },
   "source": [
    "# Lặp theo số lần biết trước trong python"
   ]
  },
  {
   "cell_type": "markdown",
   "metadata": {
    "colab_type": "text",
    "id": "LTtYqLyW5PCP",
    "slideshow": {
     "slide_type": "slide"
    }
   },
   "source": [
    "## Cấu trúc cơ bản"
   ]
  },
  {
   "cell_type": "markdown",
   "metadata": {
    "colab_type": "text",
    "id": "7f1jBgUAkdl4",
    "slideshow": {
     "slide_type": "subslide"
    }
   },
   "source": [
    "Để lặp lại một hành động nào đó với số lần là biết trước, bạn dùng cú pháp sau :\n",
    "```\n",
    "for <biến_đếm> in range(<số_lần_lặp>):\n",
    "    <hành_động>\n",
    "```\n",
    "Trong đó :\n",
    "- `biến_đếm` chỉ cần khai báo lúc viết vòng `for`.\n",
    "- `hành_động` có thể phụ thuộc vào `biến_đếm` hoặc không.\n"
   ]
  },
  {
   "cell_type": "code",
   "execution_count": 1,
   "metadata": {
    "colab": {
     "base_uri": "https://localhost:8080/",
     "height": 357
    },
    "colab_type": "code",
    "id": "drQN8lX7U8b4",
    "outputId": "a9bc0dd6-86e0-41f0-d98b-4c0c20d096ab",
    "slideshow": {
     "slide_type": "subslide"
    }
   },
   "outputs": [
    {
     "name": "stdout",
     "output_type": "stream",
     "text": [
      "Hello World!\n",
      "Hello World!\n",
      "Hello World!\n",
      "Hello World!\n",
      "Hello World!\n"
     ]
    }
   ],
   "source": [
    "# in câu `Hello World!` 5 lần\n",
    "# đây là hành động không phụ thuộc vào biến đếm\n",
    "for i in range(5):\n",
    "    print('Hello World!')"
   ]
  },
  {
   "cell_type": "code",
   "execution_count": 9,
   "metadata": {
    "slideshow": {
     "slide_type": "subslide"
    }
   },
   "outputs": [
    {
     "name": "stdout",
     "output_type": "stream",
     "text": [
      "0\n",
      "1\n",
      "2\n",
      "3\n",
      "4\n"
     ]
    }
   ],
   "source": [
    "# hành động phụ thuộc biến đếm\n",
    "for k in range(5):\n",
    "    print(k)"
   ]
  },
  {
   "cell_type": "markdown",
   "metadata": {
    "colab_type": "text",
    "id": "FyCYmWVY4yRs",
    "slideshow": {
     "slide_type": "slide"
    }
   },
   "source": [
    "## Hàm `range()`"
   ]
  },
  {
   "cell_type": "markdown",
   "metadata": {
    "colab_type": "text",
    "id": "boZsrgg35XSU",
    "slideshow": {
     "slide_type": "subslide"
    }
   },
   "source": [
    "Hàm `range()` thường được dùng để tạo một đối tượng đếm cho vòng `for`.\n",
    "\n",
    "Dạng đầy đủ của hàm `range()` là :\n",
    "```\n",
    "range([bắt_đầu], <kết_thúc>, [bước_nhảy])\n",
    "```\n",
    "Trong đó :\n",
    "- `bắt_đầu`, `kết_thúc` và `bước_nhảy` là số nguyên.\n",
    "- Có thể bỏ qua `bắt_đầu`, `bắt_đầu` được hiểu là 0.\n",
    "- Có thể bỏ qua `bước_nhảy`, `bước_nhảy` được hiểu là 1."
   ]
  },
  {
   "cell_type": "markdown",
   "metadata": {},
   "source": [
    "*Lưu ý*: `range(a, b, i)` sẽ tương đương danh sách `[a, a+i, a+2i, a+3i, ..., a+ki]` với `a+ki` sẽ là:\n",
    "- Số lớn nhất mà nhỏ hơn `b` nếu `i > 0`.\n",
    "- Sỏ nhỏ nhất mà lớn hơn `b` nếu `i < 0`."
   ]
  },
  {
   "cell_type": "code",
   "execution_count": 4,
   "metadata": {
    "colab": {
     "base_uri": "https://localhost:8080/",
     "height": 102
    },
    "colab_type": "code",
    "id": "EcztXW2X4ml0",
    "outputId": "ec5a2bb7-7b76-4b2a-a7f9-22d4b6f62d70",
    "slideshow": {
     "slide_type": "subslide"
    }
   },
   "outputs": [
    {
     "name": "stdout",
     "output_type": "stream",
     "text": [
      "1\n",
      "3\n",
      "5\n",
      "7\n",
      "9\n"
     ]
    }
   ],
   "source": [
    "# bước nhảy dương\n",
    "for i in range(1, 10, 2) :\n",
    "    print(i)"
   ]
  },
  {
   "cell_type": "code",
   "execution_count": 5,
   "metadata": {
    "colab": {
     "base_uri": "https://localhost:8080/",
     "height": 102
    },
    "colab_type": "code",
    "id": "bsj9bvnf6-Ao",
    "outputId": "0b8cce06-e8eb-4aff-93d2-a6d6a10202d8",
    "slideshow": {
     "slide_type": "subslide"
    }
   },
   "outputs": [
    {
     "name": "stdout",
     "output_type": "stream",
     "text": [
      "10\n",
      "8\n",
      "6\n",
      "4\n",
      "2\n"
     ]
    }
   ],
   "source": [
    "# bước nhảy âm\n",
    "for i in range(10, 1, -2):\n",
    "  print(i)"
   ]
  },
  {
   "cell_type": "code",
   "execution_count": 1,
   "metadata": {
    "colab_type": "text",
    "id": "fImfNZjK-mUz",
    "slideshow": {
     "slide_type": "slide"
    }
   },
   "outputs": [
    {
     "name": "stdout",
     "output_type": "stream",
     "text": [
      "5050\n"
     ]
    }
   ],
   "source": [
    "# tính tổng S = 1 + 2 + 3 + ... + 100\n",
    "# có thể thấy bắt đầu là 1, bước nhảy là 1\n",
    "# do số cuối cùng là 100 nên kết thúc là 100 + 1 = 101\n",
    "S = 0\n",
    "for i in range(1, 101):\n",
    "    S = S + i\n",
    "\n",
    "print(S)"
   ]
  },
  {
   "cell_type": "markdown",
   "metadata": {
    "colab_type": "text",
    "id": "fgPbp_uL8raY",
    "slideshow": {
     "slide_type": "slide"
    }
   },
   "source": [
    "## Lặp qua `list`, `set` và `str`"
   ]
  },
  {
   "cell_type": "markdown",
   "metadata": {},
   "source": [
    "Để lặp qua phần tử của một danh sách, có thể dùng đến số thứ tự của từng phần tử trong danh sách như ví dụ sau."
   ]
  },
  {
   "cell_type": "code",
   "execution_count": 17,
   "metadata": {
    "slideshow": {
     "slide_type": "subslide"
    }
   },
   "outputs": [
    {
     "name": "stdout",
     "output_type": "stream",
     "text": [
      "246\n"
     ]
    }
   ],
   "source": [
    "# tính tổng các số trong 1 danh sách cho trước\n",
    "a = [101, 23, 44, 78]\n",
    "S = 0\n",
    "for i in range(len(a)):\n",
    "    S = S + a[i]\n",
    "print(S)"
   ]
  },
  {
   "cell_type": "markdown",
   "metadata": {
    "slideshow": {
     "slide_type": "subslide"
    }
   },
   "source": [
    "Tuy nhiên, trong python, bạn có thể viết như sau:\n",
    "```\n",
    "for i in a:\n",
    "    <hành_động_với_i>\n",
    "```\n",
    "Trong đó, `a` có thể là một `list`, `set` hoặc `str`.\n"
   ]
  },
  {
   "cell_type": "code",
   "execution_count": 2,
   "metadata": {
    "slideshow": {
     "slide_type": "subslide"
    }
   },
   "outputs": [
    {
     "name": "stdout",
     "output_type": "stream",
     "text": [
      "333\n"
     ]
    }
   ],
   "source": [
    "# lặp qua danh sách theo cách của python\n",
    "s = [100, 104, 34, 95]\n",
    "t = 0\n",
    "for i in s:\n",
    "    t = t + i\n",
    "print(t)"
   ]
  },
  {
   "cell_type": "code",
   "execution_count": 7,
   "metadata": {
    "slideshow": {
     "slide_type": "subslide"
    }
   },
   "outputs": [
    {
     "name": "stdout",
     "output_type": "stream",
     "text": [
      "1\n",
      "2\n",
      "3\n",
      "4\n"
     ]
    }
   ],
   "source": [
    "# lặp qua một set\n",
    "s = {1, 2, 3, 4}\n",
    "for i in s:\n",
    "    print(i)"
   ]
  },
  {
   "cell_type": "code",
   "execution_count": 8,
   "metadata": {
    "slideshow": {
     "slide_type": "subslide"
    }
   },
   "outputs": [
    {
     "name": "stdout",
     "output_type": "stream",
     "text": [
      "a\n",
      "b\n",
      "c\n",
      "x\n",
      "y\n",
      "z\n"
     ]
    }
   ],
   "source": [
    "# lặp qua các ký tự của một chuỗi\n",
    "s = 'abcxyz'\n",
    "for c in s:\n",
    "    print(c)"
   ]
  },
  {
   "cell_type": "markdown",
   "metadata": {
    "slideshow": {
     "slide_type": "slide"
    }
   },
   "source": [
    "## Lặp qua một `dict`"
   ]
  },
  {
   "cell_type": "markdown",
   "metadata": {
    "slideshow": {
     "slide_type": "subslide"
    }
   },
   "source": [
    "Đối với `dict`, thường sẽ có 2 cách lặp:\n",
    "- Lặp theo khóa, dùng `for k in <tên_dict>.keys():`.\n",
    "- Lặp theo cặp khóa-giá trị, dùng `for k, v in <tên_dict>.items():`"
   ]
  },
  {
   "cell_type": "code",
   "execution_count": 3,
   "metadata": {
    "slideshow": {
     "slide_type": "subslide"
    }
   },
   "outputs": [
    {
     "name": "stdout",
     "output_type": "stream",
     "text": [
      "a\n",
      "b\n"
     ]
    }
   ],
   "source": [
    "# lặp theo khóa\n",
    "d = {'a': 102, 'b': 103}\n",
    "for k in d.keys():\n",
    "    print(k)"
   ]
  },
  {
   "cell_type": "code",
   "execution_count": 4,
   "metadata": {},
   "outputs": [
    {
     "name": "stdout",
     "output_type": "stream",
     "text": [
      "a: 1\n",
      "b: 2\n"
     ]
    }
   ],
   "source": [
    "# lặp theo cặp khóa-giá trị\n",
    "d = {'a': 1, 'b': 2}\n",
    "for k, v in d.items():\n",
    "    print(f'{k}: {v}')"
   ]
  },
  {
   "cell_type": "markdown",
   "metadata": {
    "colab_type": "text",
    "id": "tFCNtI5a_IT8",
    "slideshow": {
     "slide_type": "slide"
    }
   },
   "source": [
    "# Lặp theo điều kiện"
   ]
  },
  {
   "cell_type": "markdown",
   "metadata": {
    "colab_type": "text",
    "id": "_6kApZRd_VDu",
    "slideshow": {
     "slide_type": "subslide"
    }
   },
   "source": [
    "Bên cạnh việc lặp theo số lần biết trước, bạn còn có một cấu trúc để lặp theo điều kiện, tức là khi nào điều kiện còn đúng thì bạn còn phải thực hiện hành động.\n",
    "\n",
    "Để thể hiện việc này trong python, bạn viết như sau :\n",
    "```\n",
    "while <điều_kiện> :\n",
    "    <hành_động>\n",
    "```"
   ]
  },
  {
   "cell_type": "code",
   "execution_count": 5,
   "metadata": {
    "colab": {
     "base_uri": "https://localhost:8080/",
     "height": 34
    },
    "colab_type": "code",
    "id": "ACDQGHZ58idY",
    "outputId": "2169d318-366d-470b-f60f-0b0fc086d835",
    "slideshow": {
     "slide_type": "subslide"
    }
   },
   "outputs": [
    {
     "name": "stdout",
     "output_type": "stream",
     "text": [
      "10011\n",
      "9870\n"
     ]
    }
   ],
   "source": [
    "# tính tổng S = 1 + 2 + 3 + ... cho đến khi S > 10000\n",
    "i = 1\n",
    "S = 0\n",
    "while S <= 10000:\n",
    "    S = S + i\n",
    "    i = i + 1\n",
    "\n",
    "print(S)\n",
    "print(S - i + 1)"
   ]
  },
  {
   "cell_type": "code",
   "execution_count": null,
   "metadata": {},
   "outputs": [],
   "source": [
    "# nhập một chuỗi có ít nhất 8 ký tự\n",
    "s = input('Nhập chuỗi có ít nhất 8 ký tự')\n",
    "while len(s) < 8: # chuỗi có ít hơn 8 ký tự\n",
    "    s = input('Nhập chuỗi có ít nhất 8 ký tự') # nhập lại"
   ]
  },
  {
   "cell_type": "markdown",
   "metadata": {
    "colab_type": "text",
    "id": "eZUnfD9ZBd8i",
    "slideshow": {
     "slide_type": "slide"
    }
   },
   "source": [
    "**Lưu ý**: Khi thực hiện vòng `while`, phải đảm bảo rằng vòng lặp phải kết thúc sau một số hữu hạn bước."
   ]
  },
  {
   "cell_type": "markdown",
   "metadata": {
    "colab_type": "text",
    "id": "jNie__ZVF3FL",
    "slideshow": {
     "slide_type": "slide"
    }
   },
   "source": [
    "# Các từ khoá `break`, `continue`"
   ]
  },
  {
   "cell_type": "markdown",
   "metadata": {
    "colab_type": "text",
    "id": "aJe62ZhkGgfI",
    "slideshow": {
     "slide_type": "subslide"
    }
   },
   "source": [
    "Như các bạn có thể thấy trong sơ đồ trên, python sẽ thực hiện hành động cho đến khi điều kiện không được thoả. \n",
    "\n",
    "Tuy nhiên, xem xét các tình huống sau:\n",
    "- Bạn tìm kiếm trong một tập hợp và bạn muốn chấm dứt vòng lặp khi tìm thấy.\n",
    "- Bạn muốn bỏ qua một số hành động khi gặp điều kiện nào đó.\n",
    "\n",
    "Trong các tình huống trên, nếu thực hiện vòng lặp có thể gây lãng phí.\n",
    "\n",
    "Vì vậy, python cung cấp 2 từ khóa `break` và `continue` để có thể thay đổi cách lặp."
   ]
  },
  {
   "cell_type": "markdown",
   "metadata": {
    "colab_type": "text",
    "id": "vO3W5AViH7ae",
    "slideshow": {
     "slide_type": "slide"
    }
   },
   "source": [
    "## Từ khoá `break`\n",
    "Khi gặp từ khoá `break`, python sẽ lập tức thoát khỏi vòng lặp."
   ]
  },
  {
   "cell_type": "code",
   "execution_count": 6,
   "metadata": {
    "colab": {
     "base_uri": "https://localhost:8080/",
     "height": 153
    },
    "colab_type": "code",
    "id": "8-iJBcGbEWVj",
    "outputId": "e9de0b10-a49c-43e8-e56a-1e372c64e20c",
    "slideshow": {
     "slide_type": "subslide"
    }
   },
   "outputs": [
    {
     "name": "stdout",
     "output_type": "stream",
     "text": [
      "0\n",
      "1\n",
      "2\n",
      "3\n",
      "4\n",
      "5\n",
      "6\n",
      "Hết vòng lặp\n"
     ]
    }
   ],
   "source": [
    "# ví dụ break\n",
    "for i in range(10) :\n",
    "    print(i)\n",
    "    if i > 5:\n",
    "        break\n",
    "print('Hết vòng lặp')"
   ]
  },
  {
   "cell_type": "markdown",
   "metadata": {
    "colab_type": "text",
    "id": "qlVdAqTUIqux",
    "slideshow": {
     "slide_type": "slide"
    }
   },
   "source": [
    "## Từ khoá `continue`\n",
    "Khi gặp từ khoá `continue`, python sẽ bỏ qua phần còn lại của vòng lặp, chỉ áp dụng cho lần lặp đang thực hiện. Vòng lặp vẫn sẽ được tiếp tục với giá trị kế tiếp."
   ]
  },
  {
   "cell_type": "code",
   "execution_count": 3,
   "metadata": {
    "colab": {
     "base_uri": "https://localhost:8080/",
     "height": 187
    },
    "colab_type": "code",
    "id": "WX5rp0YLImSS",
    "outputId": "447e987c-2274-4130-9fae-77f7852ad17c",
    "slideshow": {
     "slide_type": "subslide"
    }
   },
   "outputs": [
    {
     "name": "stdout",
     "output_type": "stream",
     "text": [
      "Cái này được in\n",
      "1\n",
      "Cái này được in\n",
      "3\n",
      "Cái này được in\n",
      "5\n",
      "Cái này được in\n",
      "7\n",
      "Cái này được in\n",
      "9\n"
     ]
    }
   ],
   "source": [
    "# ví dụ continue\n",
    "for i in range(10):\n",
    "    if i % 2 == 0:\n",
    "        print('Cái này được in')\n",
    "        continue\n",
    "    print(i)"
   ]
  },
  {
   "cell_type": "code",
   "execution_count": 11,
   "metadata": {
    "colab": {},
    "colab_type": "code",
    "id": "wZCorVqNJ8nR",
    "slideshow": {
     "slide_type": "slide"
    }
   },
   "outputs": [
    {
     "name": "stdout",
     "output_type": "stream",
     "text": [
      "7 là số nguyên tố\n"
     ]
    }
   ],
   "source": [
    "# chương trình kiểm tra một số nguyên tố\n",
    "n = 7\n",
    "for i in range(2, n):\n",
    "    if n % i == 0: # nếu điều kiện này đúng thì n sẽ không là số nguyên tố\n",
    "        break\n",
    "if i == n-1: # lặp tới cuối\n",
    "    print(n, 'là số nguyên tố')\n",
    "else:\n",
    "    print(n, 'không phải số nguyên tố')"
   ]
  },
  {
   "cell_type": "markdown",
   "metadata": {
    "slideshow": {
     "slide_type": "slide"
    }
   },
   "source": [
    "## Tạo danh sách bằng vòng lặp"
   ]
  },
  {
   "cell_type": "markdown",
   "metadata": {
    "slideshow": {
     "slide_type": "slide"
    }
   },
   "source": [
    "**Bài tập**: Tạo ra danh sách bao gồm bình phương các số từ 0 đến 9?"
   ]
  },
  {
   "cell_type": "markdown",
   "metadata": {
    "slideshow": {
     "slide_type": "subslide"
    }
   },
   "source": [
    "Trong nhiều ngôn ngữ, bạn sẽ phải viết một đoạn chương trình tương đương với:\n",
    "\n",
    "```\n",
    "s = []\n",
    "for i in range(10):\n",
    "    s = s + [i*i]\n",
    "```"
   ]
  },
  {
   "cell_type": "code",
   "execution_count": 9,
   "metadata": {},
   "outputs": [
    {
     "name": "stdout",
     "output_type": "stream",
     "text": [
      "[0, 1, 4, 9, 16, 25, 36, 49, 64, 81]\n"
     ]
    }
   ],
   "source": [
    "s = []\n",
    "for i in range(10):\n",
    "    s = s + [i*i]\n",
    "print(s)"
   ]
  },
  {
   "cell_type": "markdown",
   "metadata": {
    "slideshow": {
     "slide_type": "subslide"
    }
   },
   "source": [
    "Tuy nhiên, trong python, có thể viết gọn lại như sau: `s = [i * i for i in range(10)]`\n"
   ]
  },
  {
   "cell_type": "code",
   "execution_count": 15,
   "metadata": {
    "slideshow": {
     "slide_type": "subslide"
    }
   },
   "outputs": [
    {
     "name": "stdout",
     "output_type": "stream",
     "text": [
      "[0, 1, 4, 9, 16, 25, 36, 49, 64, 81]\n"
     ]
    }
   ],
   "source": [
    "s = [i * i for i in range(10)]\n",
    "print(s)"
   ]
  },
  {
   "cell_type": "markdown",
   "metadata": {
    "slideshow": {
     "slide_type": "slide"
    }
   },
   "source": [
    "Tức là, bạn có thể viết gọn\n",
    "\n",
    "```\n",
    "s = []\n",
    "for <điều_kiện>:\n",
    "    s = s + [<biểu_thức>]\n",
    "```\n",
    "\n",
    "thành `s = [<biểu_thức> for <điều_kiện>]`"
   ]
  },
  {
   "cell_type": "code",
   "execution_count": 16,
   "metadata": {
    "slideshow": {
     "slide_type": "subslide"
    }
   },
   "outputs": [
    {
     "name": "stdout",
     "output_type": "stream",
     "text": [
      "[0, 2, 4, 6, 8, 10]\n"
     ]
    }
   ],
   "source": [
    "# tạo ra tập hợp các số chẵn từ 0 đến 10\n",
    "s = [i for i in range(0, 11, 2)]\n",
    "print(s)"
   ]
  },
  {
   "cell_type": "markdown",
   "metadata": {},
   "source": [
    "**Bài tập**: Cho dãy số $\\{a_i\\}_{i \\in \\mathbb{N}}$ được định nghĩa $a_0 = 1$, $a_1 = 1$, $a_{n+2} = a_{n+1} + a_{n} (n \\geq 0)$. Viết chương trình nhập vào số $n$, in ra màn hình giá trị của $a_n$."
   ]
  },
  {
   "cell_type": "code",
   "execution_count": 17,
   "metadata": {},
   "outputs": [
    {
     "name": "stdout",
     "output_type": "stream",
     "text": [
      "Nhập số n: 10\n",
      "89\n"
     ]
    }
   ],
   "source": [
    "n = int(input('Nhập số n: '))\n",
    "curr, ne = 1, 1\n",
    "for i in range(1, n):\n",
    "    curr, ne = ne, curr + ne  \n",
    "print(ne)"
   ]
  }
 ],
 "metadata": {
  "celltoolbar": "Slideshow",
  "colab": {
   "name": "Cấu trúc lặp",
   "provenance": []
  },
  "kernelspec": {
   "display_name": "Python 3",
   "language": "python",
   "name": "python3"
  },
  "language_info": {
   "codemirror_mode": {
    "name": "ipython",
    "version": 3
   },
   "file_extension": ".py",
   "mimetype": "text/x-python",
   "name": "python",
   "nbconvert_exporter": "python",
   "pygments_lexer": "ipython3",
   "version": "3.12.0"
  }
 },
 "nbformat": 4,
 "nbformat_minor": 1
}
