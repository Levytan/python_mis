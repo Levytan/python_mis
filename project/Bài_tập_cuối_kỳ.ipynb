{
  "nbformat": 4,
  "nbformat_minor": 0,
  "metadata": {
    "colab": {
      "provenance": []
    },
    "kernelspec": {
      "name": "python3",
      "display_name": "Python 3"
    },
    "language_info": {
      "name": "python"
    }
  },
  "cells": [
    {
      "cell_type": "markdown",
      "source": [
        "**Bài 1**: Dùng vòng lặp `for` để in ra màn hình như sau:\n",
        "\n",
        "```\n",
        "1 2 3 4 5\n",
        "1 2 3 4\n",
        "1 2 3\n",
        "1 2\n",
        "1\n",
        "1 2\n",
        "1 2 3\n",
        "1 2 3 4\n",
        "1 2 3 4 5\n",
        "```"
      ],
      "metadata": {
        "id": "BXpotvUH8mQY"
      }
    },
    {
      "cell_type": "code",
      "execution_count": null,
      "metadata": {
        "id": "y_fcg2xA8guT"
      },
      "outputs": [],
      "source": []
    },
    {
      "cell_type": "markdown",
      "source": [
        "**Bài 2**: Người ta có thể tính xấp xỉ tích phân của hàm số $f(x)$ trên đoạn $[a, b]$ như sau:\n",
        "$$\n",
        "\\int_a^b f(x) \\mathrm{d}x ≈ \\sum_{i=0}^n f(x_i)\\times \\frac{b - a}{n}\n",
        "$$\n",
        "\n",
        "Trong đó $x_i = a + \\dfrac{(b-a) \\times i}{n}$, $i = 0, 1, \\dots, n$\n",
        "\n",
        "Tính giá trị xấp xỉ của $\\displaystyle \\int_{-1}^{1} \\sqrt{1-x^2}\\mathrm{d}x$ với $n = 10000$."
      ],
      "metadata": {
        "id": "LW2lqMrL9DAo"
      }
    },
    {
      "cell_type": "code",
      "source": [],
      "metadata": {
        "id": "euO-rvUC-WUW"
      },
      "execution_count": null,
      "outputs": []
    },
    {
      "cell_type": "markdown",
      "source": [
        "**Bài 3**: Viết chương trình sinh ngẫu nhiên một mật khẩu theo cấu trúc `WWSDDDDD` (`D` đại diện cho ký tự số, `W` đại diện cho ký tự chữ cái in hoa, `S` đại diện cho ký tự đặc biệt, gồm `!@#$%^&*`). In kết quả ra màn hình.\n",
        "\n",
        "Có thể dùng `random.choices(<danh sách>)` để chọn ngẫu nhiên 1 giá trị trong `<danh sách>`."
      ],
      "metadata": {
        "id": "P0GnIoaDBwdE"
      }
    },
    {
      "cell_type": "code",
      "source": [],
      "metadata": {
        "id": "n0ra5a7yCMIr"
      },
      "execution_count": null,
      "outputs": []
    },
    {
      "cell_type": "markdown",
      "source": [
        "**Bài 4**: Viết chương trình nhập vào một số $n$ kiểu `int`. In ra màn hình hai số $a$ và $b$ sao cho $a^2 - b^2 = n$"
      ],
      "metadata": {
        "id": "hn9dhGJMC14C"
      }
    },
    {
      "cell_type": "code",
      "source": [],
      "metadata": {
        "id": "IR0ZS_MlGcqQ"
      },
      "execution_count": null,
      "outputs": []
    },
    {
      "cell_type": "markdown",
      "source": [
        "**Bài 5**: Viết chương trình nhập vào một số kiểu `int`, in ra màn hình tổng của số vừa nhập và số đó được viết theo thứ tự ngược lại.\n",
        "\n",
        "*Ví dụ*: Nhập vào $123$, in ra $444(= 123 + 321)$."
      ],
      "metadata": {
        "id": "lOfE7vpqgm4s"
      }
    },
    {
      "cell_type": "code",
      "source": [],
      "metadata": {
        "id": "1XYX-C1kjKU5"
      },
      "execution_count": null,
      "outputs": []
    }
  ]
}